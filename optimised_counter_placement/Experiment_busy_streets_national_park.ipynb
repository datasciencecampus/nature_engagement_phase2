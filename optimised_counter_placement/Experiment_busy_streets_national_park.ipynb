{
 "cells": [
  {
   "cell_type": "code",
   "execution_count": null,
   "id": "3770ca85",
   "metadata": {},
   "outputs": [],
   "source": [
    "%reload_ext autoreload\n",
    "%autoreload 2\n",
    "\n",
    "# All the packages are defined in the Config file\n",
    "from model_packages import *\n",
    "\n",
    "# All the variables are defined in the Config file\n",
    "from model_config import *\n",
    "\n",
    "# All the functions are defined in the Config file\n",
    "from model_utils import *\n",
    "\n",
    "\n",
    "\n"
   ]
  },
  {
   "cell_type": "code",
   "execution_count": null,
   "id": "6cceccd9",
   "metadata": {},
   "outputs": [],
   "source": [
    "# Preprocess Strava Metro data\n",
    "# Get hourly means for weekdays in non-winter months\n",
    "\n",
    "#os.getcwd()\n",
    "\n",
    "# we have made a local copy of the Strava data\n",
    "'''\n",
    "The data is for a specific \n",
    "location with hourly \n",
    "frequency count of activities\n",
    "'''\n",
    "\n",
    "#folder_list=os.listdir(strava_data_loc_np)\n",
    "\n",
    "\n",
    "folder_list=[name for name in os.listdir(strava_data_loc_np) if os.path.isdir(os.path.join(strava_data_loc_np, name)) ]\n",
    "\n",
    "\n",
    "str_csv=[]\n",
    "\n",
    "str_shp=[]\n",
    "for folder in folder_list:\n",
    "    \n",
    "    file_list=os.listdir(strava_data_loc_np+folder)\n",
    "    print(folder)\n",
    "    \n",
    "    csv_file=[x for x in file_list if x.endswith(\".csv\")][0]\n",
    "    \n",
    "    shp_file=[x for x in file_list if x.endswith(\".shp\")][0]\n",
    "    \n",
    "    # Shape files and Strava edge ids.\n",
    "    strava_df_shp = gpd.read_file(strava_data_loc_np+folder+'/'+shp_file)\n",
    "    \n",
    "    strava_df_shp=strava_df_shp.drop_duplicates(subset='edgeUID').reset_index(drop=True)\n",
    "    \n",
    "    # Strava activity count\n",
    "    strava_df_csv = pd.read_csv(strava_data_loc_np+folder+'/'+csv_file)\n",
    "    strava_df_shp=strava_df_shp.to_crs(crs_mtr)\n",
    "    \n",
    "    str_csv.append(strava_df_csv)\n",
    "    str_shp.append(strava_df_shp)"
   ]
  },
  {
   "cell_type": "code",
   "execution_count": null,
   "id": "78ac458c",
   "metadata": {},
   "outputs": [],
   "source": [
    "strava_df_csv=pd.concat(str_csv).drop_duplicates().reset_index(drop=True)\n",
    "\n",
    "\n",
    "strava_df_shp=pd.concat(str_shp).drop_duplicates(subset=['edgeUID']).reset_index(drop=True)"
   ]
  },
  {
   "cell_type": "code",
   "execution_count": null,
   "id": "0aacfa9d",
   "metadata": {},
   "outputs": [],
   "source": [
    "\n",
    "\n",
    "\n",
    "strava_df_csv['date']=pd.to_datetime(strava_df_csv['date'])"
   ]
  },
  {
   "cell_type": "code",
   "execution_count": null,
   "id": "bdd9b55e",
   "metadata": {},
   "outputs": [],
   "source": [
    "strava_df_csv['day_of_week'] = strava_df_csv['date'].dt.day_name()"
   ]
  },
  {
   "cell_type": "code",
   "execution_count": null,
   "id": "cbfbecab",
   "metadata": {},
   "outputs": [],
   "source": [
    "\n",
    "# Get a sample of Strava activities: (need to find a way around- to speed up computation)\n",
    "\n",
    "strava_df_csv_sample=strava_df_csv.copy()"
   ]
  },
  {
   "cell_type": "code",
   "execution_count": null,
   "id": "66f74a1e",
   "metadata": {},
   "outputs": [],
   "source": [
    "\n",
    "\n",
    "\n",
    "\n",
    "#strava_df_csv_sample.date=pd.to_datetime(strava_df_csv_sample.date)\n",
    "\n",
    "\n",
    "strava_df_csv_sample['month']=pd.to_datetime(strava_df_csv_sample['date']).dt.month\n",
    "\n",
    "strava_df_csv_sample['year']=pd.to_datetime(strava_df_csv_sample['date']).dt.year\n",
    "\n",
    "#strava_df_csv_sample.month=pd.to_datetime(strava_df_csv_sample.month)\n",
    "\n",
    "#strava_df_csv_sample['year']=strava_df_csv_sample.month.dt.year\n",
    "\n",
    "\n",
    "#strava_df_csv_sample['month']=strava_df_csv_sample.month.dt.month\n",
    "\n"
   ]
  },
  {
   "cell_type": "code",
   "execution_count": null,
   "id": "18c8d6ae",
   "metadata": {},
   "outputs": [],
   "source": [
    "seasons = {(1, 12, 2): 'Winter', (3, 4, 5): 'Spring', (6, 7, 8): 'Summer', (9, 10, 11): 'Autumn'}\n",
    "\n",
    "\n",
    "def get_season(ser):\n",
    "    for k in seasons.keys():\n",
    "        if ser in k:\n",
    "            return seasons[k]\n",
    "\n",
    "strava_df_csv_sample['season'] = strava_df_csv_sample.month.apply(get_season)"
   ]
  },
  {
   "cell_type": "code",
   "execution_count": null,
   "id": "beeacf44",
   "metadata": {},
   "outputs": [],
   "source": [
    "strava_df_shp.to_crs(crs_deg).explore()"
   ]
  },
  {
   "cell_type": "code",
   "execution_count": null,
   "id": "20ee2462",
   "metadata": {},
   "outputs": [],
   "source": [
    "from pandas.api.types import CategoricalDtype\n",
    "\n",
    "cats = [ 'Monday', 'Tuesday', 'Wednesday', 'Thursday', 'Friday', 'Saturday', 'Sunday']\n",
    "cat_type = CategoricalDtype(categories=cats, ordered=True)\n",
    "strava_df_csv_sample['day_of_week'] = strava_df_csv_sample['day_of_week'].astype(cat_type)\n",
    "\n",
    "\n",
    "\n",
    "#df_agg_day_sesn=strava_df_csv_sample.groupby(['day_of_week','season'])['total_trip_count'].sum().reset_index()\n",
    "df_agg_day_sesn=((strava_df_csv_sample.groupby(['season','day_of_week'])['total_trip_count'].sum()/\\\n",
    " strava_df_csv_sample.groupby(['season','day_of_week'])['total_trip_count'].sum().sum(axis=0))*100).reset_index()"
   ]
  },
  {
   "cell_type": "code",
   "execution_count": null,
   "id": "12e02da2",
   "metadata": {},
   "outputs": [],
   "source": []
  },
  {
   "cell_type": "code",
   "execution_count": null,
   "id": "2b46c25f",
   "metadata": {},
   "outputs": [],
   "source": [
    "\n",
    "\n",
    "fig = px.bar(df_agg_day_sesn, x='day_of_week', y=\"total_trip_count\", color=\"season\",barmode='group')#,markers=True,symbol=\"season\")\n",
    "\n",
    "fig.update_traces(marker=dict(size=15,\n",
    "                              line=dict(width=2,\n",
    "                                        color='DarkSlateGrey')),\n",
    "                  selector=dict(mode='markers'))\n",
    "fig.update_layout(yaxis_title=\"% Total recorded Strava activities\")\n",
    "\n",
    "fig.show()"
   ]
  },
  {
   "cell_type": "code",
   "execution_count": null,
   "id": "7840d1a9",
   "metadata": {},
   "outputs": [],
   "source": [
    "#ax=strava_df_shp.to_crs(crs_deg).plot()\n",
    "#cx.add_basemap(ax,crs=strava_df_shp.to_crs(crs_deg).crs.to_string())"
   ]
  },
  {
   "cell_type": "code",
   "execution_count": null,
   "id": "7da630ab",
   "metadata": {},
   "outputs": [],
   "source": [
    "\n",
    "\n",
    "#nature_reserve=gpd.read_file(nature_reserve_data)\n",
    "\n",
    "\n",
    "\n",
    "#nature_reserve.geometry = nature_reserve.to_crs(crs_mtr).geometry.buffer(100, 6)"
   ]
  },
  {
   "cell_type": "code",
   "execution_count": null,
   "id": "a36b731e",
   "metadata": {},
   "outputs": [],
   "source": [
    "#strava_df_shp['osmId'].unique().shape\n",
    "\n",
    "strava_df_csv_sample['osm_reference_id'].unique().shape"
   ]
  },
  {
   "cell_type": "code",
   "execution_count": null,
   "id": "20c5a913",
   "metadata": {},
   "outputs": [],
   "source": [
    "#nature_reserve.explore()"
   ]
  },
  {
   "cell_type": "code",
   "execution_count": null,
   "id": "17e11cbc",
   "metadata": {},
   "outputs": [],
   "source": [
    "national_park=gpd.read_file(national_park_data)"
   ]
  },
  {
   "cell_type": "code",
   "execution_count": null,
   "id": "6a335bf5",
   "metadata": {},
   "outputs": [],
   "source": [
    "#ax=nature_reserve.to_crs(crs_deg).plot()\n",
    "#cx.add_basemap(ax,crs=strava_df_shp.to_crs(crs_deg).crs.to_string())"
   ]
  },
  {
   "cell_type": "code",
   "execution_count": null,
   "id": "5ff523fb",
   "metadata": {},
   "outputs": [],
   "source": [
    "national_park.explore(categorical=True,column='name',legend=True)"
   ]
  },
  {
   "cell_type": "code",
   "execution_count": null,
   "id": "875389c6",
   "metadata": {},
   "outputs": [],
   "source": [
    "\n",
    "\n",
    "#ax=gpd.overlay(strava_df_shp.to_crs(crs_mtr), nature_reserve.to_crs(crs_mtr), how='intersection').\\\n",
    "#to_crs(crs_deg).plot(categorical=True,column='nnr_name',legend=True)\n",
    "#cx.add_basemap(ax,crs=strava_df_shp.to_crs(crs_deg).crs.to_string())"
   ]
  },
  {
   "cell_type": "code",
   "execution_count": null,
   "id": "73314035",
   "metadata": {},
   "outputs": [],
   "source": [
    "gpd.overlay(strava_df_shp.to_crs(crs_mtr), national_park.to_crs(crs_mtr), how='intersection').\\\n",
    "to_crs(crs_deg).explore(categorical=True,column='name',legend=True)"
   ]
  },
  {
   "cell_type": "code",
   "execution_count": null,
   "id": "29ae8047",
   "metadata": {},
   "outputs": [],
   "source": []
  },
  {
   "cell_type": "code",
   "execution_count": null,
   "id": "1c504e81",
   "metadata": {},
   "outputs": [],
   "source": [
    "edges_nature_rsrv=gpd.overlay(strava_df_shp.to_crs(crs_mtr), national_park.to_crs(crs_mtr),\\\n",
    "                              how='intersection')['edgeUID'].unique()\n",
    "\n",
    "\n",
    "\n",
    "strava_df_csv_sample=strava_df_csv_sample[strava_df_csv_sample['edge_uid'].isin(edges_nature_rsrv)]\n",
    "\n"
   ]
  },
  {
   "cell_type": "code",
   "execution_count": null,
   "id": "d42e0872",
   "metadata": {},
   "outputs": [],
   "source": [
    "strava_df_shp=strava_df_shp[strava_df_shp['edgeUID'].isin(edges_nature_rsrv)]"
   ]
  },
  {
   "cell_type": "code",
   "execution_count": null,
   "id": "ca4ae67f",
   "metadata": {},
   "outputs": [],
   "source": [
    "\n",
    "strava_df_csv_sample['month_name']=strava_df_csv_sample['month'].apply(lambda x: calendar.month_abbr[x])\n"
   ]
  },
  {
   "cell_type": "code",
   "execution_count": null,
   "id": "64e9e7a6",
   "metadata": {},
   "outputs": [],
   "source": [
    "# Visualisation\n",
    "strava_df_csv_sample.groupby(['month','year'])['total_trip_count'].mean().unstack().plot(style='-o')\n",
    "plt.title('Total number of trips recorded across all edges')"
   ]
  },
  {
   "cell_type": "code",
   "execution_count": null,
   "id": "21bc1e2e",
   "metadata": {},
   "outputs": [],
   "source": [
    "# Focus on specific days and months\n",
    "\n",
    "\n",
    "strava_df_csv_sample_summer=strava_df_csv_sample[strava_df_csv_sample.month_name.isin(['Jun','Jul','Aug'])]"
   ]
  },
  {
   "cell_type": "code",
   "execution_count": null,
   "id": "f3d87193",
   "metadata": {},
   "outputs": [],
   "source": [
    "strava_df_csv_sample_summer['month_name'].unique()"
   ]
  },
  {
   "cell_type": "code",
   "execution_count": null,
   "id": "15458d0d",
   "metadata": {},
   "outputs": [],
   "source": [
    "# Visualisation\n",
    "strava_df_csv_sample_summer.groupby(['month','year'])['total_trip_count'].mean().unstack().plot(style='-o')\n",
    "#plt.ylabel('Activities recorded')\n",
    "plt.title('Total number of trips recorded across all edges during Summer')"
   ]
  },
  {
   "cell_type": "code",
   "execution_count": null,
   "id": "8cfaeb1a",
   "metadata": {},
   "outputs": [],
   "source": [
    "strava_df_csv_sample_summer"
   ]
  },
  {
   "cell_type": "code",
   "execution_count": null,
   "id": "5f6ef46a",
   "metadata": {},
   "outputs": [],
   "source": [
    "# Mean activity count of each edge grouped by month\n",
    "\n",
    "mean_count=strava_df_csv_sample_summer.groupby(['month','edge_uid'])['total_trip_count'].mean().\\\n",
    "reset_index()\n",
    "\n",
    "\n",
    "\n",
    "mean_count_pvt_tbl=mean_count.pivot_table(index=[\"edge_uid\"],columns='month',values='total_trip_count')\n",
    "\n",
    "\n",
    "mean_count_pvt_tbl=mean_count_pvt_tbl.fillna(0)\n",
    "\n",
    "mean_count_pvt_tbl#=mean_count_pvt_tbl.reindex(columns=['Morning', 'Noon', 'Evening', 'Night'])"
   ]
  },
  {
   "cell_type": "code",
   "execution_count": null,
   "id": "8ac5e017",
   "metadata": {},
   "outputs": [],
   "source": [
    "\n",
    "sns.displot(pd.DataFrame(mean_count_pvt_tbl.sum(axis=1)).values,kde=True)"
   ]
  },
  {
   "cell_type": "raw",
   "id": "8f405f93",
   "metadata": {},
   "source": [
    "# Focus on edges which are not in the extrema\n",
    "\n",
    "x=pd.DataFrame(mean_count_pvt_tbl.sum(axis=1))\n",
    "\n",
    "x.rename(columns={0:'total_mean_edge_count'},inplace=True)\n",
    "\n",
    "# Print the new shape of the DataFrame\n",
    "print(\"Old Shape: \", x.shape)\n",
    "\n",
    "''' Detection '''\n",
    "# IQR\n",
    "# Calculate the upper and lower limits\n",
    "Q1 = x['total_mean_edge_count'].quantile(0.1)\n",
    "Q3 = x['total_mean_edge_count'].quantile(0.9)\n",
    "IQR = Q3 - Q1\n",
    "lower = Q1 - 1.5*IQR\n",
    "upper = Q3 + 1.5*IQR\n",
    "\n",
    "\n",
    "# Create arrays of Boolean values indicating the outlier rows\n",
    "upper_array = np.where(x['total_mean_edge_count']>=upper)[0]\n",
    "lower_array = np.where(x['total_mean_edge_count']<=lower)[0]\n",
    "\n",
    "\n",
    "\n",
    "x=x[(~(x.index.isin(x.iloc[upper_array,:].index.values))&(~(x.index.isin(x.iloc[lower_array,:].index.values))))]\n",
    "\n",
    "#x.hist()\n",
    "\n",
    "sns.displot(x['total_mean_edge_count'],kde=True)\n",
    "\n",
    "\n",
    " \n",
    "# Print the new shape of the DataFrame\n",
    "print(\"New Shape: \", x.shape)"
   ]
  },
  {
   "cell_type": "raw",
   "id": "8710e2b3",
   "metadata": {},
   "source": [
    "x['total_mean_edge_count'].max()\n",
    "x\n",
    "\n",
    "mean_count_pvt_tbl=x.copy()"
   ]
  },
  {
   "cell_type": "code",
   "execution_count": null,
   "id": "e26028fe",
   "metadata": {},
   "outputs": [],
   "source": [
    "mean_count_pvt_tbl.values\n"
   ]
  },
  {
   "cell_type": "code",
   "execution_count": null,
   "id": "1465674a",
   "metadata": {},
   "outputs": [],
   "source": [
    "# Calculate the pairwise distance between edges and \n",
    "\n",
    "ds = dtw.distance_matrix_fast(mean_count_pvt_tbl.values,window=1,compact=False)\n"
   ]
  },
  {
   "cell_type": "code",
   "execution_count": null,
   "id": "b577357e",
   "metadata": {},
   "outputs": [],
   "source": []
  },
  {
   "cell_type": "code",
   "execution_count": null,
   "id": "76c5bb95",
   "metadata": {},
   "outputs": [],
   "source": [
    "# Based on the pairwise distance, assign each edge to a cluster\n",
    "'''\n",
    "This is computationally costly\n",
    "'''\n",
    "# https://stackoverflow.com/questions/50695226/how-to-get-the-optimal-number-of-clusters-using-hierarchical-cluster-analysis-au\n",
    "\n",
    "# costly\n",
    "#cluster = AgglomerativeClustering(n_clusters=None, affinity='euclidean', linkage='ward',\\\n",
    "#                                  compute_full_tree=True, distance_threshold=10000)\n",
    "\n",
    "# racplus\n",
    "# https://towardsdatascience.com/scaling-agglomerative-clustering-for-big-data-an-introduction-to-rac-fb26a6b326ad\n",
    "\n",
    "\n",
    "numbr_clustrs_range=range (2,25)\n",
    "str_chs=[]\n",
    "for numb_clusters in numbr_clustrs_range:\n",
    "    \n",
    "    cluster = AgglomerativeClustering(n_clusters=numb_clusters, affinity='euclidean', linkage='ward',\\\n",
    "                                  compute_full_tree=True, distance_threshold=None)\n",
    "\n",
    "#cluster = racplusplus.rac(n_clusters=5,distance_threshold=None, symmetric, batch_size=1000, no_cores=8, metric=\"cosine\")\n",
    "\n",
    "\n",
    "# https://hdbscan.readthedocs.io/en/latest/performance_and_scalability.html\n",
    "#cluster= HDBSCAN()\n",
    "# Cluster the data\n",
    "    cluster.fit_predict(ds)\n",
    "\n",
    "    print(f\"Number of clusters = {1+np.amax(cluster.labels_)}\")\n",
    "\n",
    "# Display the clustering, assigning cluster label to every datapoint \n",
    "#print(\"Classifying the points into clusters:\")\n",
    "#print(cluster.labels_)\n",
    "\n",
    "# Display the clustering graphically in a plot\n",
    "#plt.scatter(ds[:,0],ds[:,1], c=cluster.labels_, cmap='rainbow')\n",
    "#plt.title(f\"SK Learn estimated number of clusters = {1+np.amax(cluster.labels_)}\")\n",
    "#plt.show()\n",
    "\n",
    "# https://www.geeksforgeeks.org/calinski-harabasz-index-cluster-validity-indices-set-3/\n",
    "\n",
    "    metrics.calinski_harabasz_score(ds, cluster.labels_)\n",
    "    \n",
    "    str_chs.append(metrics.calinski_harabasz_score(ds, cluster.labels_))\n",
    "\n",
    "    #print(\" \")\n",
    "    \n",
    "plt.plot(numbr_clustrs_range,str_chs,'-o')\n",
    "\n",
    "\n"
   ]
  },
  {
   "cell_type": "code",
   "execution_count": null,
   "id": "826a4e29",
   "metadata": {},
   "outputs": [],
   "source": [
    "\n",
    "\n",
    "cluster = AgglomerativeClustering(n_clusters=3, affinity='euclidean', linkage='ward',\\\n",
    "                                  compute_full_tree=True, distance_threshold=None)\n",
    "\n",
    "#cluster = racplusplus.rac(n_clusters=5,distance_threshold=None, symmetric, batch_size=1000, no_cores=8, metric=\"cosine\")\n",
    "\n",
    "\n",
    "# https://hdbscan.readthedocs.io/en/latest/performance_and_scalability.html\n",
    "#cluster= HDBSCAN()\n",
    "# Cluster the data\n",
    "cluster.fit_predict(ds)\n",
    "\n",
    "print(f\"Number of clusters = {1+np.amax(cluster.labels_)}\")"
   ]
  },
  {
   "cell_type": "code",
   "execution_count": null,
   "id": "dcf71048",
   "metadata": {},
   "outputs": [],
   "source": [
    "\n",
    "\n"
   ]
  },
  {
   "cell_type": "code",
   "execution_count": null,
   "id": "be86cab3",
   "metadata": {},
   "outputs": [],
   "source": [
    "\n",
    "# Assign cluster label to each edge\n",
    "df_ds=pd.DataFrame(ds)\n",
    "\n",
    "df_ds.index=mean_count_pvt_tbl.index.values\n",
    "\n",
    "df_ds['total_mean_edge_count']=df_ds.mean(axis=1).values\n",
    "\n",
    "df_ds['labels']=cluster.labels_\n",
    "\n",
    "df_ds=df_ds.reset_index()\n",
    "\n",
    "df_ds.rename(columns={'index':'edge_uid'},inplace=True)\n",
    "\n",
    "\n",
    "count_edges_clusters=df_ds[['edge_uid','labels','total_mean_edge_count']].merge(mean_count_pvt_tbl.reset_index(),left_on=['edge_uid'],\\\n",
    "                                 right_on=['edge_uid'])\n",
    "\n",
    "\n",
    "count_edges_clusters=count_edges_clusters[['edge_uid','labels','total_mean_edge_count']]\n",
    "\n",
    "\n",
    "\n"
   ]
  },
  {
   "cell_type": "code",
   "execution_count": null,
   "id": "5410cbce",
   "metadata": {},
   "outputs": [],
   "source": [
    "strava_df_shp\n",
    "df_ds\n",
    "count_edges_clusters"
   ]
  },
  {
   "cell_type": "code",
   "execution_count": null,
   "id": "3d0c0ea7",
   "metadata": {},
   "outputs": [],
   "source": [
    "\n",
    "# Strava edges with cluster labels\n",
    "\n",
    "df_ds_shp=pd.merge(strava_df_shp.drop_duplicates(subset=['edgeUID']),df_ds,left_on=['edgeUID'],\\\n",
    "                   right_on=['edge_uid'],how='inner')\n",
    "\n",
    "df_ds_shp=gpd.GeoDataFrame(df_ds_shp)[['geometry','labels','edge_uid']]\n",
    "\n",
    "\n",
    "df_ds_shp['labels_count']=df_ds_shp['labels'].map(df_ds_shp['labels'].value_counts())"
   ]
  },
  {
   "cell_type": "code",
   "execution_count": null,
   "id": "be874717",
   "metadata": {},
   "outputs": [],
   "source": [
    "count_edges_clusters=df_ds_shp.merge(count_edges_clusters,left_on=['edge_uid','labels'],\\\n",
    "                right_on=['edge_uid','labels'])"
   ]
  },
  {
   "cell_type": "code",
   "execution_count": null,
   "id": "668b7019",
   "metadata": {},
   "outputs": [],
   "source": []
  },
  {
   "cell_type": "code",
   "execution_count": null,
   "id": "ae77e0a2",
   "metadata": {},
   "outputs": [],
   "source": [
    "#ax=count_edges_clusters.to_crs(crs_deg).plot()\n",
    "#national_park.to_crs(crs_deg).plot(color='g',ax=ax)\n",
    "#cx.add_basemap(ax,crs=count_edges_clusters.to_crs(crs_deg).crs.to_string())"
   ]
  },
  {
   "cell_type": "raw",
   "id": "51819974",
   "metadata": {},
   "source": [
    "ax=nature_reserve[nature_reserve['nnr_name']=='The Wash'].to_crs(crs_deg).plot(color='b')\n",
    "#count_edges_clusters.\n",
    "#nature_reserve.to_crs(crs_deg).plot(ax=ax,color='g')\n",
    "cx.add_basemap(ax,crs=count_edges_clusters.to_crs(crs_deg).crs.to_string())"
   ]
  },
  {
   "cell_type": "code",
   "execution_count": null,
   "id": "7643bcd8",
   "metadata": {},
   "outputs": [],
   "source": [
    "\n",
    "sns.violinplot(data=count_edges_clusters,x=\"labels\",y=\"total_mean_edge_count\")"
   ]
  },
  {
   "cell_type": "code",
   "execution_count": null,
   "id": "ae9388ad",
   "metadata": {},
   "outputs": [],
   "source": [
    "#dict_label={0:'high_footfall',1:'low_footfall',2:'medium_footfall'}"
   ]
  },
  {
   "cell_type": "code",
   "execution_count": null,
   "id": "91c96d92",
   "metadata": {},
   "outputs": [],
   "source": [
    "\n",
    "sns.violinplot(data=count_edges_clusters,x=\"labels\",y=\"total_mean_edge_count\")"
   ]
  },
  {
   "cell_type": "code",
   "execution_count": null,
   "id": "cdc59007",
   "metadata": {},
   "outputs": [],
   "source": [
    "#count_edges_clusters['labels']=count_edges_clusters['labels'].map(dict_label)"
   ]
  },
  {
   "cell_type": "code",
   "execution_count": null,
   "id": "a2d26ea4",
   "metadata": {},
   "outputs": [],
   "source": [
    "sns.violinplot(data=count_edges_clusters,x=\"labels\",y=\"total_mean_edge_count\")"
   ]
  },
  {
   "cell_type": "code",
   "execution_count": null,
   "id": "c952d60f",
   "metadata": {},
   "outputs": [],
   "source": [
    "count_edges_clusters['labels'].value_counts()"
   ]
  },
  {
   "cell_type": "code",
   "execution_count": null,
   "id": "caf13286",
   "metadata": {},
   "outputs": [],
   "source": [
    "count_edges_clusters.to_crs(crs_deg).explore(column=\"labels\", categorical=True,cmap='viridis',\\\n",
    "                                               legend=True)"
   ]
  },
  {
   "cell_type": "code",
   "execution_count": null,
   "id": "57506958",
   "metadata": {},
   "outputs": [],
   "source": [
    "#ax=count_edges_clusters.to_crs(crs_deg).plot(column=\"labels\", categorical=True,cmap='viridis',\\\n",
    " #                                              legend=True, figsize=(9, 9))\n",
    "#cx.add_basemap(ax,crs=count_edges_clusters.to_crs(crs_deg).crs.to_string())"
   ]
  },
  {
   "cell_type": "code",
   "execution_count": null,
   "id": "c51f9839",
   "metadata": {},
   "outputs": [],
   "source": [
    "\n",
    "#ax=count_edges_clusters.to_crs(crs_deg).plot(column=\"labels\", categorical=True,cmap='viridis',\\\n",
    "#                                               legend=True, figsize=(9, 9))\n",
    "#cx.add_basemap(ax,crs=count_edges_clusters.to_crs(crs_deg).crs.to_string())"
   ]
  },
  {
   "cell_type": "raw",
   "id": "074ddc04",
   "metadata": {},
   "source": [
    "# Strava edges color coded with cluster labels\n",
    "ax = count_edges_clusters.to_crs(crs_deg).plot(column=\"labels\", categorical=True,cmap='viridis',\\\n",
    "                                               legend=True, figsize=(9, 9))\n",
    "#cx.add_basemap(ax,crs=count_edges_clusters.to_crs(crs_deg).crs.to_string(),zoom=16)\n",
    "\n",
    "src_basemap = cx.providers.Stamen.Terrain\n",
    "cx.add_basemap( ax, crs=count_edges_clusters.to_crs(crs_deg).crs.to_string(),\\\n",
    "                source=src_basemap, alpha=0.5, zorder=10)"
   ]
  },
  {
   "cell_type": "raw",
   "id": "bd9fa9a6",
   "metadata": {},
   "source": [
    "# We might want to focus on those edges with the most non-extreme grouping\n",
    "\n",
    "# (i.e. cluster frequency count not in the top/bottom)\n",
    "\n",
    "# Z-score of 1.0 would indicate a value that is one standard deviation from the mean.\n",
    "\n",
    "z_scr=1\n",
    "count_edges_clusters['labels_count'].hist()\n",
    "\n",
    "df_ds_shp[(np.abs(zscore(count_edges_clusters['labels_count'])) <= z_scr)]['labels_count'].hist()\n",
    "\n",
    "plt.show()\n",
    "\n",
    "\n",
    "df_ds_shp_non_extreme_edges=count_edges_clusters[(np.abs(zscore(count_edges_clusters['labels_count'])) <= z_scr)]\n",
    "\n",
    "df_ds_shp_non_extreme_edges['labels'].unique()"
   ]
  },
  {
   "cell_type": "raw",
   "id": "cb7f6d24",
   "metadata": {},
   "source": [
    "\n",
    "\n",
    "ax = df_ds_shp_non_extreme_edges.to_crs(crs_deg).plot(column=\"labels\", categorical=True,cmap='viridis',legend=True, figsize=(9, 9))\n",
    "cx.add_basemap(ax,crs=df_ds_shp_non_extreme_edges.to_crs(crs_deg).crs.to_string())\n",
    "ax.set_title('Streets clusters',fontsize=1)\n",
    "plt.tight_layout()\n"
   ]
  },
  {
   "cell_type": "code",
   "execution_count": null,
   "id": "95e9c032",
   "metadata": {},
   "outputs": [],
   "source": [
    "\n"
   ]
  },
  {
   "cell_type": "code",
   "execution_count": null,
   "id": "f877ec19",
   "metadata": {},
   "outputs": [],
   "source": []
  },
  {
   "cell_type": "code",
   "execution_count": null,
   "id": "475375ec",
   "metadata": {},
   "outputs": [],
   "source": []
  },
  {
   "cell_type": "code",
   "execution_count": null,
   "id": "b78298cf",
   "metadata": {},
   "outputs": [],
   "source": []
  }
 ],
 "metadata": {
  "kernelspec": {
   "display_name": "Project_DEFRA",
   "language": "python",
   "name": "project_defra"
  },
  "language_info": {
   "codemirror_mode": {
    "name": "ipython",
    "version": 3
   },
   "file_extension": ".py",
   "mimetype": "text/x-python",
   "name": "python",
   "nbconvert_exporter": "python",
   "pygments_lexer": "ipython3",
   "version": "3.10.6"
  }
 },
 "nbformat": 4,
 "nbformat_minor": 5
}
