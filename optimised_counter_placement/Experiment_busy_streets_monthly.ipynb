{
 "cells": [
  {
   "cell_type": "code",
   "execution_count": null,
   "id": "3770ca85",
   "metadata": {},
   "outputs": [],
   "source": [
    "%reload_ext autoreload\n",
    "%autoreload 2\n",
    "\n",
    "# All the packages are defined in the Config file\n",
    "from model_packages import *\n",
    "\n",
    "# All the variables are defined in the Config file\n",
    "from model_config import *\n",
    "\n",
    "# All the functions are defined in the Config file\n",
    "from model_utils import *\n",
    "\n"
   ]
  },
  {
   "cell_type": "code",
   "execution_count": null,
   "id": "78ac458c",
   "metadata": {},
   "outputs": [],
   "source": [
    "# Preprocess Strava Metro data\n",
    "# Get hourly means for weekdays in non-winter months\n",
    "\n",
    "#os.getcwd()\n",
    "\n",
    "# we have made a local copy of the Strava data\n",
    "'''\n",
    "The data is for a specific \n",
    "location with hourly \n",
    "frequency count of activities\n",
    "'''\n",
    "\n",
    "file_list=os.listdir(strava_data_loc_monthly)\n",
    "\n",
    "\n",
    "\n",
    "csv_file=[x for x in file_list if x.endswith(\".csv\")][0]\n",
    "\n",
    "shp_file=[x for x in file_list if x.endswith(\".shp\")][0]\n",
    "\n",
    "# Shape files and Strava edge ids.\n",
    "strava_df_shp = gpd.read_file(strava_data_loc_monthly+'/'+shp_file)\n",
    "\n",
    "strava_df_shp=strava_df_shp.drop_duplicates(subset='edgeUID').reset_index(drop=True)\n",
    "\n",
    "# Strava activity count\n",
    "strava_df_csv = pd.read_csv(strava_data_loc_monthly+'/'+csv_file)\n",
    "\n",
    "strava_df_shp=strava_df_shp.to_crs(crs_mtr)"
   ]
  },
  {
   "cell_type": "code",
   "execution_count": null,
   "id": "66f74a1e",
   "metadata": {},
   "outputs": [],
   "source": [
    "\n",
    "\n",
    "# Get a sample of Strava activities: (need to find a way around- to speed up computation)\n",
    "\n",
    "strava_df_csv_sample=strava_df_csv.copy()\n",
    "\n",
    "\n",
    "#strava_df_csv_sample.date=pd.to_datetime(strava_df_csv_sample.date)\n",
    "\n",
    "strava_df_csv_sample.month=pd.to_datetime(strava_df_csv_sample.month)\n",
    "\n",
    "strava_df_csv_sample['year']=strava_df_csv_sample.month.dt.year\n",
    "\n",
    "\n",
    "strava_df_csv_sample['month']=strava_df_csv_sample.month.dt.month\n",
    "\n"
   ]
  },
  {
   "cell_type": "code",
   "execution_count": null,
   "id": "875389c6",
   "metadata": {},
   "outputs": [],
   "source": []
  },
  {
   "cell_type": "code",
   "execution_count": null,
   "id": "ca4ae67f",
   "metadata": {},
   "outputs": [],
   "source": [
    "\n",
    "strava_df_csv_sample['month_name']=strava_df_csv_sample['month'].apply(lambda x: calendar.month_abbr[x])\n"
   ]
  },
  {
   "cell_type": "code",
   "execution_count": null,
   "id": "64e9e7a6",
   "metadata": {},
   "outputs": [],
   "source": [
    "# Visualisation\n",
    "strava_df_csv_sample.groupby(['month','year'])['total_trip_count'].sum().unstack().plot(style='-o')\n",
    "plt.ylabel('Activities recorded')"
   ]
  },
  {
   "cell_type": "code",
   "execution_count": null,
   "id": "21bc1e2e",
   "metadata": {},
   "outputs": [],
   "source": [
    "# Focus on specific days and months\n",
    "\n",
    "\n",
    "strava_df_csv_sample_summer=strava_df_csv_sample[strava_df_csv_sample.month_name.isin(['Jun','Jul','Aug'])]"
   ]
  },
  {
   "cell_type": "code",
   "execution_count": null,
   "id": "f3d87193",
   "metadata": {},
   "outputs": [],
   "source": [
    "strava_df_csv_sample_summer['month_name'].unique()"
   ]
  },
  {
   "cell_type": "code",
   "execution_count": null,
   "id": "15458d0d",
   "metadata": {},
   "outputs": [],
   "source": [
    "# Visualisation\n",
    "strava_df_csv_sample_summer.groupby(['month','year'])['total_trip_count'].sum().unstack().plot()\n",
    "plt.ylabel('Activities recorded')"
   ]
  },
  {
   "cell_type": "code",
   "execution_count": null,
   "id": "5f6ef46a",
   "metadata": {},
   "outputs": [],
   "source": [
    "# Mean activity count of each edge grouped by time of the day\n",
    "\n",
    "mean_count=strava_df_csv_sample_summer.groupby(['month','osm_reference_id'])['total_trip_count'].sum().\\\n",
    "reset_index()\n",
    "\n",
    "\n",
    "\n",
    "mean_count_pvt_tbl=mean_count.pivot_table(index=[\"osm_reference_id\"],columns='month',values='total_trip_count')\n",
    "\n",
    "\n",
    "mean_count_pvt_tbl=mean_count_pvt_tbl.fillna(0)\n",
    "\n",
    "mean_count_pvt_tbl#=mean_count_pvt_tbl.reindex(columns=['Morning', 'Noon', 'Evening', 'Night'])"
   ]
  },
  {
   "cell_type": "code",
   "execution_count": null,
   "id": "e5453f22",
   "metadata": {},
   "outputs": [],
   "source": [
    "# Focus on edges which are not in the extrema\n",
    "\n",
    "x=pd.DataFrame(mean_count_pvt_tbl.sum(axis=1))\n",
    "\n",
    "x.rename(columns={0:'total_mean_edge_count'},inplace=True)\n",
    "\n",
    "# Print the new shape of the DataFrame\n",
    "print(\"Old Shape: \", x.shape)\n",
    "\n",
    "''' Detection '''\n",
    "# IQR\n",
    "# Calculate the upper and lower limits\n",
    "Q1 = x['total_mean_edge_count'].quantile(0.1)\n",
    "Q3 = x['total_mean_edge_count'].quantile(0.9)\n",
    "IQR = Q3 - Q1\n",
    "lower = Q1 - 1.5*IQR\n",
    "upper = Q3 + 1.5*IQR\n",
    "\n",
    "\n",
    "# Create arrays of Boolean values indicating the outlier rows\n",
    "upper_array = np.where(x['total_mean_edge_count']>=upper)[0]\n",
    "lower_array = np.where(x['total_mean_edge_count']<=lower)[0]\n",
    "\n",
    "\n",
    "\n",
    "x=x[(~(x.index.isin(x.iloc[upper_array,:].index.values))&(~(x.index.isin(x.iloc[lower_array,:].index.values))))]\n",
    "\n",
    "#x.hist()\n",
    "\n",
    "sns.displot(x['total_mean_edge_count'],kde=True)\n",
    "\n",
    "\n",
    " \n",
    "# Print the new shape of the DataFrame\n",
    "print(\"New Shape: \", x.shape)"
   ]
  },
  {
   "cell_type": "code",
   "execution_count": null,
   "id": "e26028fe",
   "metadata": {},
   "outputs": [],
   "source": [
    "mean_count_pvt_tbl=x.copy()\n"
   ]
  },
  {
   "cell_type": "code",
   "execution_count": null,
   "id": "1465674a",
   "metadata": {},
   "outputs": [],
   "source": [
    "# Calculate the pairwise distance between edges and \n",
    "\n",
    "ds = dtw.distance_matrix_fast(mean_count_pvt_tbl.values,window=1,compact=False)\n"
   ]
  },
  {
   "cell_type": "code",
   "execution_count": null,
   "id": "b577357e",
   "metadata": {},
   "outputs": [],
   "source": []
  },
  {
   "cell_type": "code",
   "execution_count": null,
   "id": "76c5bb95",
   "metadata": {},
   "outputs": [],
   "source": [
    "# Based on the pairwise distance, assign each edge to a cluster\n",
    "'''\n",
    "This is computationally costly\n",
    "'''\n",
    "# https://stackoverflow.com/questions/50695226/how-to-get-the-optimal-number-of-clusters-using-hierarchical-cluster-analysis-au\n",
    "\n",
    "# costly\n",
    "#cluster = AgglomerativeClustering(n_clusters=None, affinity='euclidean', linkage='ward',\\\n",
    "#                                  compute_full_tree=True, distance_threshold=10000)\n",
    "\n",
    "# racplus\n",
    "# https://towardsdatascience.com/scaling-agglomerative-clustering-for-big-data-an-introduction-to-rac-fb26a6b326ad\n",
    "\n",
    "cluster = AgglomerativeClustering(n_clusters=3, affinity='euclidean', linkage='ward',\\\n",
    "                                  compute_full_tree=True, distance_threshold=None)\n",
    "\n",
    "#cluster = racplusplus.rac(n_clusters=5,distance_threshold=None, symmetric, batch_size=1000, no_cores=8, metric=\"cosine\")\n",
    "\n",
    "\n",
    "# https://hdbscan.readthedocs.io/en/latest/performance_and_scalability.html\n",
    "#cluster= HDBSCAN()\n",
    "# Cluster the data\n",
    "cluster.fit_predict(ds)\n",
    "\n",
    "print(f\"Number of clusters = {1+np.amax(cluster.labels_)}\")\n",
    "\n",
    "# Display the clustering, assigning cluster label to every datapoint \n",
    "print(\"Classifying the points into clusters:\")\n",
    "print(cluster.labels_)\n",
    "\n",
    "# Display the clustering graphically in a plot\n",
    "plt.scatter(ds[:,0],ds[:,1], c=cluster.labels_, cmap='rainbow')\n",
    "plt.title(f\"SK Learn estimated number of clusters = {1+np.amax(cluster.labels_)}\")\n",
    "plt.show()\n",
    "\n",
    "print(\" \")"
   ]
  },
  {
   "cell_type": "code",
   "execution_count": null,
   "id": "be86cab3",
   "metadata": {},
   "outputs": [],
   "source": [
    "\n",
    "# Assign cluster label to each edge\n",
    "df_ds=pd.DataFrame(ds)\n",
    "\n",
    "df_ds.index=mean_count_pvt_tbl.index.values\n",
    "\n",
    "df_ds['labels']=cluster.labels_\n",
    "\n",
    "df_ds=df_ds.reset_index()\n",
    "\n",
    "df_ds.rename(columns={'index':'osm_reference_id'},inplace=True)\n",
    "\n",
    "\n",
    "count_edges_clusters=df_ds.merge(mean_count_pvt_tbl.reset_index(),left_on=['osm_reference_id'],\\\n",
    "                                 right_on=['osm_reference_id'])\n",
    "\n",
    "\n",
    "count_edges_clusters=count_edges_clusters[['osm_reference_id','labels','total_mean_edge_count']]\n",
    "\n",
    "\n"
   ]
  },
  {
   "cell_type": "code",
   "execution_count": null,
   "id": "3d0c0ea7",
   "metadata": {},
   "outputs": [],
   "source": [
    "\n",
    "# Strava edges with cluster labels\n",
    "\n",
    "df_ds_shp=pd.merge(strava_df_shp.drop_duplicates(subset=['osmId']),df_ds,left_on=['osmId'],\\\n",
    "                   right_on=['osm_reference_id'],how='inner')\n",
    "\n",
    "df_ds_shp=gpd.GeoDataFrame(df_ds_shp)[['geometry','labels','osm_reference_id']]\n",
    "\n",
    "\n",
    "df_ds_shp['labels_count']=df_ds_shp['labels'].map(df_ds_shp['labels'].value_counts())"
   ]
  },
  {
   "cell_type": "code",
   "execution_count": null,
   "id": "be874717",
   "metadata": {},
   "outputs": [],
   "source": [
    "count_edges_clusters=df_ds_shp.merge(count_edges_clusters,left_on=['osm_reference_id','labels'],\\\n",
    "                right_on=['osm_reference_id','labels'])"
   ]
  },
  {
   "cell_type": "code",
   "execution_count": null,
   "id": "ae77e0a2",
   "metadata": {},
   "outputs": [],
   "source": []
  },
  {
   "cell_type": "code",
   "execution_count": null,
   "id": "91c96d92",
   "metadata": {},
   "outputs": [],
   "source": [
    "\n",
    "sns.boxplot(data=count_edges_clusters,x=\"labels\",y=\"total_mean_edge_count\")"
   ]
  },
  {
   "cell_type": "code",
   "execution_count": null,
   "id": "c952d60f",
   "metadata": {},
   "outputs": [],
   "source": [
    "count_edges_clusters['labels'].value_counts()"
   ]
  },
  {
   "cell_type": "code",
   "execution_count": null,
   "id": "57506958",
   "metadata": {},
   "outputs": [],
   "source": []
  },
  {
   "cell_type": "code",
   "execution_count": null,
   "id": "003fbe26",
   "metadata": {},
   "outputs": [],
   "source": [
    "# Strava edges color coded with cluster labels\n",
    "ax = count_edges_clusters.to_crs(crs_deg).plot(column=\"labels\", categorical=True,cmap='viridis',\\\n",
    "                                               legend=True, figsize=(9, 9))\n",
    "cx.add_basemap(ax,crs=count_edges_clusters.to_crs(crs_deg).crs.to_string(),zoom=16)"
   ]
  },
  {
   "cell_type": "code",
   "execution_count": null,
   "id": "ffd6c2a5",
   "metadata": {},
   "outputs": [],
   "source": [
    "# We might want to focus on those edges with the most non-extreme grouping\n",
    "\n",
    "# (i.e. cluster frequency count not in the top/bottom)\n",
    "\n",
    "# Z-score of 1.0 would indicate a value that is one standard deviation from the mean.\n",
    "\n",
    "z_scr=1\n",
    "count_edges_clusters['labels_count'].hist()\n",
    "\n",
    "df_ds_shp[(np.abs(zscore(count_edges_clusters['labels_count'])) <= z_scr)]['labels_count'].hist()\n",
    "\n",
    "plt.show()\n",
    "\n",
    "\n",
    "df_ds_shp_non_extreme_edges=count_edges_clusters[(np.abs(zscore(count_edges_clusters['labels_count'])) <= z_scr)]\n",
    "\n",
    "df_ds_shp_non_extreme_edges['labels'].unique()"
   ]
  },
  {
   "cell_type": "code",
   "execution_count": null,
   "id": "87fcb8ad",
   "metadata": {},
   "outputs": [],
   "source": [
    "\n",
    "\n",
    "ax = df_ds_shp_non_extreme_edges.to_crs(crs_deg).plot(column=\"labels\", categorical=True,cmap='viridis',legend=True, figsize=(9, 9))\n",
    "cx.add_basemap(ax,crs=df_ds_shp_non_extreme_edges.to_crs(crs_deg).crs.to_string(),zoom=16)\n",
    "ax.set_title('Streets clusters',fontsize=1)\n",
    "plt.tight_layout()\n"
   ]
  },
  {
   "cell_type": "code",
   "execution_count": null,
   "id": "95e9c032",
   "metadata": {},
   "outputs": [],
   "source": [
    "\n"
   ]
  },
  {
   "cell_type": "code",
   "execution_count": null,
   "id": "f877ec19",
   "metadata": {},
   "outputs": [],
   "source": []
  },
  {
   "cell_type": "code",
   "execution_count": null,
   "id": "475375ec",
   "metadata": {},
   "outputs": [],
   "source": []
  },
  {
   "cell_type": "code",
   "execution_count": null,
   "id": "b78298cf",
   "metadata": {},
   "outputs": [],
   "source": []
  }
 ],
 "metadata": {
  "kernelspec": {
   "display_name": "Project_DEFRA",
   "language": "python",
   "name": "project_defra"
  },
  "language_info": {
   "codemirror_mode": {
    "name": "ipython",
    "version": 3
   },
   "file_extension": ".py",
   "mimetype": "text/x-python",
   "name": "python",
   "nbconvert_exporter": "python",
   "pygments_lexer": "ipython3",
   "version": "3.10.6"
  }
 },
 "nbformat": 4,
 "nbformat_minor": 5
}
