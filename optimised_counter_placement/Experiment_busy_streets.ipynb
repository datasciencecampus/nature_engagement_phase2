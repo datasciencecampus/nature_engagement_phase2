{
 "cells": [
  {
   "cell_type": "code",
   "execution_count": null,
   "id": "3770ca85",
   "metadata": {},
   "outputs": [],
   "source": [
    "%load_ext autoreload\n",
    "%autoreload 2\n",
    "\n",
    "# All the packages are defined in the Config file\n",
    "from model_packages import *\n",
    "\n",
    "# All the variables are defined in the Config file\n",
    "from model_config import *\n",
    "\n",
    "# All the functions are defined in the Config file\n",
    "from model_utils import *"
   ]
  },
  {
   "cell_type": "code",
   "execution_count": null,
   "id": "e8dec5d7",
   "metadata": {},
   "outputs": [],
   "source": []
  },
  {
   "cell_type": "code",
   "execution_count": null,
   "id": "78ac458c",
   "metadata": {},
   "outputs": [],
   "source": [
    "# Preprocess Strava Metro data\n",
    "# Get hourly means for weekdays in non-winter months\n",
    "\n",
    "#os.getcwd()\n",
    "\n",
    "# we have made a local copy of the Strava data\n",
    "'''\n",
    "The data is for a specific \n",
    "location with hourly \n",
    "frequency count of activities\n",
    "'''\n",
    "\n",
    "file_list=os.listdir(strava_data_loc_hourly)\n",
    "\n",
    "csv_file=[x for x in file_list if x.endswith(\".csv\")][0]\n",
    "\n",
    "shp_file=[x for x in file_list if x.endswith(\".shp\")][0]\n",
    "\n",
    "# Shape files and Strava edge ids.\n",
    "strava_df_shp = gpd.read_file(strava_data_loc_hourly+'/'+shp_file)\n",
    "\n",
    "strava_df_shp=strava_df_shp.drop_duplicates(subset='edgeUID').reset_index(drop=True)\n",
    "\n",
    "# Strava activity count\n",
    "strava_df_csv = pd.read_csv(strava_data_loc_hourly+'/'+csv_file)\n",
    "\n",
    "strava_df_shp=strava_df_shp.to_crs(crs_mtr)"
   ]
  },
  {
   "cell_type": "code",
   "execution_count": null,
   "id": "e24296a6",
   "metadata": {},
   "outputs": [],
   "source": [
    "strava_df_csv.shape"
   ]
  },
  {
   "cell_type": "code",
   "execution_count": null,
   "id": "ca4ae67f",
   "metadata": {},
   "outputs": [],
   "source": [
    "# Get a sample of Strava activities: (need to find a way around- to speed up computation)\n",
    "\n",
    "strava_df_csv_sample=strava_df_csv.sample(500000)\n",
    "strava_df_csv_sample.hour=pd.to_datetime(strava_df_csv_sample.hour)\n",
    "\n",
    "\n",
    "\n",
    "# format Strava dates, get weekdays and season\n",
    "strava_df_csv_sample['date'] =strava_df_csv_sample.hour.dt.date\n",
    "\n",
    "strava_df_csv_sample['day'] =strava_df_csv_sample.hour.dt.day\n",
    "\n",
    "strava_df_csv_sample['day_name']=strava_df_csv_sample.hour.dt.day_name()\n",
    "\n",
    "\n",
    "strava_df_csv_sample['month_name']=strava_df_csv_sample.hour.dt.month_name()\n",
    "\n",
    "\n",
    "strava_df_csv_sample['hour'] =strava_df_csv_sample.hour.dt.hour\n",
    "\n",
    "strava_df_csv_sample['hour']=strava_df_csv_sample['hour'].apply(lambda y :get_time_day(y))"
   ]
  },
  {
   "cell_type": "code",
   "execution_count": null,
   "id": "c8a39132",
   "metadata": {},
   "outputs": [],
   "source": [
    "# Visualisation\n",
    "strava_df_csv_sample.groupby(['hour','day_name'])['total_trip_count'].sum().unstack()\\\n",
    ".reindex(['Morning', 'Noon', 'Evening', 'Night']).reindex(columns=[ 'Monday',  'Tuesday','Wednesday',\\\n",
    "                                                                   'Thursday', 'Friday','Saturday', 'Sunday']).\\\n",
    "plot()\n",
    "plt.ylabel('Activities recorded')"
   ]
  },
  {
   "cell_type": "code",
   "execution_count": null,
   "id": "29ceed22",
   "metadata": {},
   "outputs": [],
   "source": [
    "# Focus on specific days and months\n",
    "\n",
    "strava_df_csv_sample_weekday=strava_df_csv_sample[~strava_df_csv_sample.day_name.isin(['Saturday','Sunday'])]\n",
    "\n",
    "strava_df_csv_sample_weekday_summer=strava_df_csv_sample_weekday[strava_df_csv_sample_weekday.\\\n",
    "                                                                 month_name.isin(['June','July','August'])]"
   ]
  },
  {
   "cell_type": "code",
   "execution_count": null,
   "id": "15458d0d",
   "metadata": {},
   "outputs": [],
   "source": [
    "# Visualisation\n",
    "strava_df_csv_sample_weekday_summer.groupby(['hour','month_name'])['total_trip_count'].sum().unstack().\\\n",
    "reindex(['Morning', 'Noon', 'Evening', 'Night']).reindex(columns=[ 'June','July','August']).plot()\n",
    "plt.ylabel('Activities recorded')"
   ]
  },
  {
   "cell_type": "code",
   "execution_count": null,
   "id": "5f6ef46a",
   "metadata": {},
   "outputs": [],
   "source": [
    "# Mean activity count of each edge grouped by time of the day\n",
    "\n",
    "mean_count=strava_df_csv_sample_weekday_summer.groupby(['hour','osm_reference_id'])['total_trip_count'].sum().\\\n",
    "reset_index()\n",
    "\n",
    "\n",
    "\n",
    "mean_count_pvt_tbl=mean_count.pivot_table(index=[\"osm_reference_id\"],columns='hour',values='total_trip_count')\n",
    "\n",
    "\n",
    "mean_count_pvt_tbl=mean_count_pvt_tbl.fillna(0)\n",
    "\n",
    "mean_count_pvt_tbl=mean_count_pvt_tbl.reindex(columns=['Morning', 'Noon', 'Evening', 'Night'])"
   ]
  },
  {
   "cell_type": "code",
   "execution_count": null,
   "id": "842077c3",
   "metadata": {},
   "outputs": [],
   "source": [
    "# Focus on edges which are not in the extrema\n",
    "\n",
    "x=pd.DataFrame(mean_count_pvt_tbl.sum(axis=1))\n",
    "\n",
    "x.rename(columns={0:'total_mean_edge_count'},inplace=True)\n",
    "\n",
    "# Print the new shape of the DataFrame\n",
    "print(\"Old Shape: \", x.shape)\n",
    "\n",
    "''' Detection '''\n",
    "# IQR\n",
    "# Calculate the upper and lower limits\n",
    "Q1 = x['total_mean_edge_count'].quantile(0.1)\n",
    "Q3 = x['total_mean_edge_count'].quantile(0.9)\n",
    "IQR = Q3 - Q1\n",
    "lower = Q1 - 1.5*IQR\n",
    "upper = Q3 + 1.5*IQR\n",
    "\n",
    "\n",
    "# Create arrays of Boolean values indicating the outlier rows\n",
    "upper_array = np.where(x['total_mean_edge_count']>=upper)[0]\n",
    "lower_array = np.where(x['total_mean_edge_count']<=lower)[0]\n",
    "\n",
    "\n",
    "\n",
    "x=x[(~(x.index.isin(x.iloc[upper_array,:].index.values))&(~(x.index.isin(x.iloc[lower_array,:].index.values))))]\n",
    "\n",
    "#x.hist()\n",
    "\n",
    "sns.displot(x['total_mean_edge_count'],kde=True)\n",
    "\n",
    "\n",
    " \n",
    "# Print the new shape of the DataFrame\n",
    "print(\"New Shape: \", x.shape)"
   ]
  },
  {
   "cell_type": "code",
   "execution_count": null,
   "id": "1465674a",
   "metadata": {},
   "outputs": [],
   "source": [
    "# Calculate the pairwise distance between edges and \n",
    "\n",
    "ds = dtw.distance_matrix_fast(mean_count_pvt_tbl.values,window=1,compact=False)\n"
   ]
  },
  {
   "cell_type": "code",
   "execution_count": null,
   "id": "76c5bb95",
   "metadata": {},
   "outputs": [],
   "source": [
    "# Based on the pairwise distance, assign each edge to a cluster\n",
    "'''\n",
    "This is computationally costly\n",
    "'''\n",
    "# https://stackoverflow.com/questions/50695226/how-to-get-the-optimal-number-of-clusters-using-hierarchical-cluster-analysis-au\n",
    "\n",
    "cluster = AgglomerativeClustering(n_clusters=None, affinity='euclidean', linkage='ward',\\\n",
    "                                  compute_full_tree=True, distance_threshold=10000)\n",
    "\n",
    "# Cluster the data\n",
    "cluster.fit_predict(ds)\n",
    "\n",
    "print(f\"Number of clusters = {1+np.amax(cluster.labels_)}\")\n",
    "\n",
    "# Display the clustering, assigning cluster label to every datapoint \n",
    "print(\"Classifying the points into clusters:\")\n",
    "print(cluster.labels_)\n",
    "\n",
    "# Display the clustering graphically in a plot\n",
    "plt.scatter(ds[:,0],ds[:,100], c=cluster.labels_, cmap='rainbow')\n",
    "plt.title(f\"SK Learn estimated number of clusters = {1+np.amax(cluster.labels_)}\")\n",
    "plt.show()\n",
    "\n",
    "print(\" \")"
   ]
  },
  {
   "cell_type": "code",
   "execution_count": null,
   "id": "be86cab3",
   "metadata": {},
   "outputs": [],
   "source": [
    "\n",
    "# Assign cluster label to each edge\n",
    "df_ds=pd.DataFrame(ds)\n",
    "\n",
    "df_ds.index=mean_count_pvt_tbl.index.values\n",
    "\n",
    "df_ds['labels']=cluster.labels_\n",
    "\n",
    "df_ds=df_ds.reset_index()\n",
    "\n",
    "df_ds.rename(columns={'index':'osm_reference_id'},inplace=True)\n",
    "\n",
    "\n",
    "df_ds"
   ]
  },
  {
   "cell_type": "code",
   "execution_count": null,
   "id": "3d0c0ea7",
   "metadata": {},
   "outputs": [],
   "source": [
    "\n",
    "# Strava edges with cluster labels\n",
    "\n",
    "df_ds_shp=pd.merge(strava_df_shp.drop_duplicates(subset=['osmId']),df_ds,left_on=['osmId'],\\\n",
    "                   right_on=['osm_reference_id'],how='inner')\n",
    "\n",
    "df_ds_shp=gpd.GeoDataFrame(df_ds_shp)[['geometry','labels']]\n",
    "\n",
    "\n",
    "df_ds_shp['labels_count']=df_ds_shp['labels'].map(df_ds_shp['labels'].value_counts())"
   ]
  },
  {
   "cell_type": "code",
   "execution_count": null,
   "id": "d6eaa0f9",
   "metadata": {},
   "outputs": [],
   "source": [
    "# Strava edges color coded with cluster labels\n",
    "ax = df_ds_shp.to_crs(crs_deg).plot(column=\"labels\", cmap='viridis',legend=True, figsize=(9, 9))\n",
    "cx.add_basemap(ax,crs=df_ds_shp.to_crs(crs_deg).crs.to_string())"
   ]
  },
  {
   "cell_type": "code",
   "execution_count": null,
   "id": "b2debc8e",
   "metadata": {},
   "outputs": [],
   "source": [
    "# We might want to focus on those edges with the most non-extreme grouping\n",
    "\n",
    "# (i.e. cluster frequency count not in the top/bottom)\n",
    "\n",
    "# Z-score of 1.0 would indicate a value that is one standard deviation from the mean.\n",
    "df_ds_shp['labels_count'].hist()\n",
    "\n",
    "df_ds_shp[(np.abs(zscore(df_ds_shp['labels_count'])) <= 1)]['labels_count'].hist()\n",
    "\n",
    "plt.show()\n",
    "\n",
    "\n",
    "df_ds_shp_non_extreme_edges=df_ds_shp[(np.abs(zscore(df_ds_shp['labels_count'])) <= 1)]"
   ]
  },
  {
   "cell_type": "code",
   "execution_count": null,
   "id": "87fcb8ad",
   "metadata": {},
   "outputs": [],
   "source": [
    "# Strava edges color coded with cluster labels\n",
    "ax = df_ds_shp_non_extreme_edges.to_crs(crs_deg).plot(column=\"labels\", cmap='viridis',legend=True, figsize=(9, 9))\n",
    "cx.add_basemap(ax,crs=df_ds_shp_non_extreme_edges.to_crs(crs_deg).crs.to_string())"
   ]
  },
  {
   "cell_type": "code",
   "execution_count": null,
   "id": "56162451",
   "metadata": {},
   "outputs": [],
   "source": []
  },
  {
   "cell_type": "code",
   "execution_count": null,
   "id": "424ff738",
   "metadata": {},
   "outputs": [],
   "source": []
  }
 ],
 "metadata": {
  "kernelspec": {
   "display_name": "Project_DEFRA",
   "language": "python",
   "name": "project_defra"
  },
  "language_info": {
   "codemirror_mode": {
    "name": "ipython",
    "version": 3
   },
   "file_extension": ".py",
   "mimetype": "text/x-python",
   "name": "python",
   "nbconvert_exporter": "python",
   "pygments_lexer": "ipython3",
   "version": "3.10.6"
  }
 },
 "nbformat": 4,
 "nbformat_minor": 5
}
