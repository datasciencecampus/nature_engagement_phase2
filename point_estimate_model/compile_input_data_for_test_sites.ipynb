{
 "cells": [
  {
   "cell_type": "code",
   "execution_count": 1,
   "metadata": {},
   "outputs": [],
   "source": [
    "os.chdir('.')"
   ]
  },
  {
   "cell_type": "code",
   "execution_count": 2,
   "metadata": {},
   "outputs": [
    {
     "data": {
      "text/plain": [
       "'/Users/jamieelliott/Documents/Git/nature_engagement_phase2/point_estimate_model'"
      ]
     },
     "execution_count": 2,
     "metadata": {},
     "output_type": "execute_result"
    }
   ],
   "source": [
    "os.getcwd()"
   ]
  },
  {
   "cell_type": "code",
   "execution_count": 4,
   "metadata": {},
   "outputs": [
    {
     "name": "stdout",
     "output_type": "stream",
     "text": [
      "/Users/jamieelliott/.pyenv/versions/3.10.9/envs/req_old/bin/python\n",
      "Confirm Pycaret version is ?\n",
      "Pycaret Version:  3.0.2\n"
     ]
    }
   ],
   "source": [
    "\n",
    "from model_config import *\n",
    "from model_packages import *\n",
    "from model_utils import *\n",
    "import re\n",
    "\n",
    "import test_sites_add_input_data\n",
    "import add_counter_location_info"
   ]
  },
  {
   "cell_type": "code",
   "execution_count": null,
   "metadata": {},
   "outputs": [],
   "source": [
    "# Running each script  to generate static features data set for test sites\n",
    "test_sites_add_input_data.counter_location_process_test_sites_data('./scripts/test_sites_config.json')\n",
    "test_sites_add_input_data.census_process_test_sites_data()\n",
    "test_sites_add_input_data.gree_blue_infrastructure_process_test_sites_data()\n",
    "test_sites_add_input_data.land_classification_process_test_sites_data()\n",
    "test_sites_add_input_data.land_habitat_process_test_sites_data()\n",
    "test_sites_add_input_data.dog_process_test_sites_data()\n",
    "test_sites_add_input_data.pois_process_test_sites_data()\n",
    "\n",
    "# access config file to loop through providers and datasets\n",
    "config= add_counter_location_info.get_config_file_paths('./scripts/test_sites_config.json')\n",
    "\n",
    "\n",
    "# process strava data for each provider\n",
    "for provider, info in config.items():\n",
    "    print(f'>>>>>>>>>>>>>{provider, info[\"strava_path\"]}')\n",
    "    test_sites_add_input_data.strava_process_test_sites_data(provider, info['strava_path'])\n",
    "\n",
    "# combine counts data for all providers\n",
    "dfs=[]\n",
    "for provider, info in config.items():\n",
    "    df= pd.read_pickle(data_folder+f'test_sites/strava_data_{provider}.pkl')\n",
    "    dfs.append(df)\n",
    "\n",
    "combined_df = pd.concat(dfs, ignore_index=True)\n",
    "combined_df['Date']=combined_df['Date'].astype(str)\n",
    "\n",
    "\n",
    "# merge with weather features\n",
    "test_sites_add_input_data.weather_process_test_sites_data()\n",
    "weather= pd.read_pickle(data_folder+'test_sites_weather_data.pkl')\n",
    "weather['Date']=weather['Date'].astype(str)\n",
    "dynamic= weather.merge(combined_df, on= ['Date', 'site'], how = 'right')\n",
    "\n",
    "# merge with static features\n",
    "static= pd.read_pickle(data_folder+'test_sites_static_data.pkl')\n",
    "static_and_dynamic_features= dynamic[['site', 'Date', 'tavg', 'total_trip_count']].merge(static, left_on= 'site', right_on='counter', how= 'inner')\n",
    "\n",
    "# save data of static and dynamic features for modelling\n",
    "static_and_dynamic_features.to_pickle(data_folder+f'test_sites_static_and_dynamic_features_{bufr_zones_mrts}.pkl')"
   ]
  }
 ],
 "metadata": {
  "kernelspec": {
   "display_name": "req_old",
   "language": "python",
   "name": "python3"
  },
  "language_info": {
   "codemirror_mode": {
    "name": "ipython",
    "version": 3
   },
   "file_extension": ".py",
   "mimetype": "text/x-python",
   "name": "python",
   "nbconvert_exporter": "python",
   "pygments_lexer": "ipython3",
   "version": "3.10.9"
  },
  "orig_nbformat": 4,
  "vscode": {
   "interpreter": {
    "hash": "73dd042dec22895802a5cf4c230cd0d0aa33a4e312107f26490806e8c532eb8a"
   }
  }
 },
 "nbformat": 4,
 "nbformat_minor": 2
}
