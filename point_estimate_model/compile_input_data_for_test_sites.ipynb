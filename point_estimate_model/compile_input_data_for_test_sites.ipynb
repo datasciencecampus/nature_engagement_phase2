{
 "cells": [
  {
   "cell_type": "code",
   "execution_count": null,
   "metadata": {},
   "outputs": [],
   "source": [
    "os.chdir('..')"
   ]
  },
  {
   "cell_type": "code",
   "execution_count": null,
   "metadata": {},
   "outputs": [],
   "source": [
    "\n",
    "from model_config import *\n",
    "from model_packages import *\n",
    "from model_utils import *\n",
    "import re\n",
    "\n",
    "import add_counter_location_info \n",
    "# import add_census_features \n",
    "import add_census_features_2021\n",
    "import add_green_blue_infrastructure\n",
    "import add_land_classification\n",
    "import add_land_habitat_data\n",
    "import add_dog_occupancy\n",
    "import add_weather\n",
    "import add_POIs\n",
    "import add_strava_data\n",
    "import add_counter_data"
   ]
  },
  {
   "cell_type": "code",
   "execution_count": null,
   "metadata": {},
   "outputs": [],
   "source": [
    "# Running each script  to generate static features data set for test sites\n",
    "add_counter_location_info.process_test_sites_data('./scripts/test_sites_config.json')\n",
    "add_census_features_2021.process_test_sites_data()\n",
    "add_green_blue_infrastructure.process_test_sites_data()\n",
    "add_land_classification.process_test_sites_data()\n",
    "add_land_habitat_data.process_test_sites_data()\n",
    "add_dog_occupancy.process_test_sites_data()\n",
    "add_POIs.process_test_sites_data()\n",
    "\n",
    "# access config file to loop through providers and datasets\n",
    "config= add_counter_location_info.get_config_file_paths('./scripts/test_sites_config.json')\n",
    "\n",
    "\n",
    "# process strava data for each provider\n",
    "for provider, info in config.items():\n",
    "    print(f'>>>>>>>>>>>>>{provider, info[\"strava_path\"]}')\n",
    "    add_strava_data.process_test_sites_data(provider, info['strava_path'])\n",
    "\n",
    "# combine counts data for all providers\n",
    "dfs=[]\n",
    "for provider, info in config.items():\n",
    "    df= pd.read_pickle(data_folder+f'test_sites/strava_data_{provider}.pkl')\n",
    "    dfs.append(df)\n",
    "\n",
    "combined_df = pd.concat(dfs, ignore_index=True)\n",
    "combined_df['Date']=combined_df['Date'].astype(str)\n",
    "\n",
    "\n",
    "# merge with weather features\n",
    "add_weather.process_test_sites_data()\n",
    "weather= pd.read_pickle(data_folder+'test_sites_weather_data.pkl')\n",
    "weather['Date']=weather['Date'].astype(str)\n",
    "dynamic= weather.merge(combined_df, on= ['Date', 'site'], how = 'right')\n",
    "\n",
    "# merge with static features\n",
    "static= pd.read_pickle(data_folder+'test_sites_static_data.pkl')\n",
    "static_and_dynamic_features= dynamic[['site', 'Date', 'tavg', 'total_trip_count']].merge(static, left_on= 'site', right_on='counter', how= 'inner')\n",
    "\n",
    "# save data of static and dynamic features for modelling\n",
    "static_and_dynamic_features.to_pickle(data_folder+f'test_sites_static_and_dynamic_features_{bufr_zones_mrts}.pkl')"
   ]
  }
 ],
 "metadata": {
  "kernelspec": {
   "display_name": "base",
   "language": "python",
   "name": "python3"
  },
  "language_info": {
   "name": "python",
   "version": "3.9.12 (main, Apr  5 2022, 01:53:17) \n[Clang 12.0.0 ]"
  },
  "orig_nbformat": 4,
  "vscode": {
   "interpreter": {
    "hash": "fec184d30afd030858da285c353de3565cbb1141a676f86e0b3a02c882ab620d"
   }
  }
 },
 "nbformat": 4,
 "nbformat_minor": 2
}
