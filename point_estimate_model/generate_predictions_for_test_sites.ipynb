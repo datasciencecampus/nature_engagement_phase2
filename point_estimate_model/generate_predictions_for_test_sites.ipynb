{
 "cells": [
  {
   "cell_type": "code",
   "execution_count": null,
   "metadata": {},
   "outputs": [],
   "source": [
    "os.chdir('..')"
   ]
  },
  {
   "cell_type": "code",
   "execution_count": null,
   "metadata": {},
   "outputs": [],
   "source": [
    "\n",
    "from model_config import *\n",
    "from model_packages import *\n",
    "from model_utils import *\n",
    "import re"
   ]
  },
  {
   "attachments": {},
   "cell_type": "markdown",
   "metadata": {},
   "source": [
    "# Define functions"
   ]
  },
  {
   "cell_type": "code",
   "execution_count": null,
   "metadata": {},
   "outputs": [],
   "source": [
    "def preprocess_input_data(input_data):\n",
    "    # raw data wrangling\n",
    "    # create geo dataframe\n",
    "    df= gpd.GeoDataFrame(input_data)\n",
    "\n",
    "    # drop sites that create negative prediction values- to be investigated\n",
    "    df= df[~df['counter'].isin(['Vessey_Pastures', 'Trosley_CP'])]\n",
    "    # assign geometry as centre of buffer\n",
    "    df['geometry']= df.geometry.centroid\n",
    "    # extract lat lon\n",
    "    df['lon']= df.geometry.x\n",
    "    df['lat']= df.geometry.y\n",
    "\n",
    "    # create season columns\n",
    "    df = create_season_columns(df)\n",
    "\n",
    "\n",
    "    # combine minority classes in land_type features \n",
    "    lnd_dict={'major_urban_settings':'urban_settings',\\\n",
    "    'minor_urban_settings':'urban_settings'}    \n",
    "    df['land_type_labels'].replace(lnd_dict,inplace=True)\n",
    "\n",
    "    # create land and habitat feature constants\n",
    "    lnd_ftrs=['land_type_labels_'+x for x in list(df['land_type_labels'].unique())]\n",
    "    hbt_ftrs=['land_habitat_labels_'+x for x in list(df['land_habitat_labels'].unique())]\n",
    "\n",
    "    return df, lnd_ftrs, hbt_ftrs\n",
    "\n",
    "def get_season(month):\n",
    "    if 3 <= month <= 5:\n",
    "        return 'spring'\n",
    "    elif 6 <= month <= 8:\n",
    "        return 'summer'\n",
    "    elif 9 <= month <= 11:\n",
    "        return 'autumn'\n",
    "    else:\n",
    "        return 'winter'\n",
    "def create_season_columns(df):\n",
    "    df['Month'] = df['Date'].str.split('-', expand=True)[1].astype(int)\n",
    "    df['Season'] = df['Month'].apply(get_season)\n",
    "    season_columns = pd.get_dummies(df['Season'])\n",
    "    df = pd.concat([df, season_columns], axis=1)\n",
    "    df.drop(columns=['Month', 'Season', 'winter'], inplace=True)\n",
    "    return df"
   ]
  },
  {
   "attachments": {},
   "cell_type": "markdown",
   "metadata": {},
   "source": [
    "# Load Model"
   ]
  },
  {
   "cell_type": "code",
   "execution_count": null,
   "metadata": {},
   "outputs": [],
   "source": [
    "\n",
    "model = load_model(data_folder+'voting_regressor_model') "
   ]
  },
  {
   "attachments": {},
   "cell_type": "markdown",
   "metadata": {},
   "source": [
    "# Format input data"
   ]
  },
  {
   "cell_type": "code",
   "execution_count": null,
   "metadata": {},
   "outputs": [],
   "source": [
    "ts_input_data= pd.read_pickle(data_folder+f'test_sites_static_and_dynamic_features_{bufr_zones_mrts}.pkl')\n",
    "ts_input_data[['amenity_bar', 'amenity_bus_station', 'amenity_food_court', 'amenity_taxi_station', 'amenity_coach_parking', 'amenity_beer_garden']] = 0\n",
    "\n",
    "df, lnd_ftrs, hbt_ftrs= preprocess_input_data(ts_input_data)\n",
    "\n",
    "# create dummy variables for categorical data\n",
    "df=pd.get_dummies(df,columns=['land_type_labels'])\n",
    "df=pd.get_dummies(df,columns=['land_habitat_labels'])\n",
    "df['counter']= df['site']"
   ]
  },
  {
   "cell_type": "code",
   "execution_count": null,
   "metadata": {},
   "outputs": [],
   "source": [
    "# If test locations dont have certain features present e.g. no 'amenity_pub' \n",
    "# or no test location labled 'land_type_labels_rural_settings' these columns must be added \n",
    "\n",
    "original_input= pd.read_pickle(data_folder+'training_predictions.pkl')\n",
    "original_columns = original_input.columns\n",
    "\n",
    "cols = original_input.columns.union(df.columns)\n",
    "\n",
    "df= df.reindex(cols, axis=1, fill_value=0)"
   ]
  },
  {
   "attachments": {},
   "cell_type": "markdown",
   "metadata": {},
   "source": [
    "# Generate Predictions"
   ]
  },
  {
   "cell_type": "code",
   "execution_count": null,
   "metadata": {},
   "outputs": [],
   "source": [
    "# fill na with 0 due to sites with missing POI features. This is expected for some locations. \n",
    "test_site_predictions= predict_model(model, data=df[['counter','Date', 'Dog', 'accessible_green_space_area', 'PROW_Total_length_km', 'waterside_length_km', 'land_type_labels_mixed_settings', 'land_habitat_labels_Grassland_woodland_wetland', 'amenity_bar', 'amenity_parking', 'amenity_pub', 'amenity_toilets', 'amenity_beer_garden', 'amenity_bus_station', 'amenity_food_court', 'amenity_taxi_station', 'amenity_coach_parking', 'Age group 0-25', 'Age group 25-65', 'Household is deprived in at least 1 dimension', 'Unemployed_population', 'Asian, Asian British or Asian Welsh', '2 or more cars or vans in household', 'Population Density: Persons per square kilometre; measures: Value', 'total_trip_count', 'tavg']].fillna(0))"
   ]
  }
 ],
 "metadata": {
  "kernelspec": {
   "display_name": "req_old",
   "language": "python",
   "name": "python3"
  },
  "language_info": {
   "codemirror_mode": {
    "name": "ipython",
    "version": 3
   },
   "file_extension": ".py",
   "mimetype": "text/x-python",
   "name": "python",
   "nbconvert_exporter": "python",
   "pygments_lexer": "ipython3",
   "version": "3.10.9 (main, Jan 11 2023, 14:59:37) [Clang 14.0.0 (clang-1400.0.29.202)]"
  },
  "orig_nbformat": 4,
  "vscode": {
   "interpreter": {
    "hash": "73dd042dec22895802a5cf4c230cd0d0aa33a4e312107f26490806e8c532eb8a"
   }
  }
 },
 "nbformat": 4,
 "nbformat_minor": 2
}
