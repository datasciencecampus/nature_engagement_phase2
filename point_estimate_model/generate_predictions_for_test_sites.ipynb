{
 "cells": [
  {
   "cell_type": "code",
   "execution_count": null,
   "metadata": {},
   "outputs": [],
   "source": [
    "os.chdir('..')"
   ]
  },
  {
   "cell_type": "code",
   "execution_count": null,
   "metadata": {},
   "outputs": [],
   "source": [
    "\n",
    "from model_config import *\n",
    "from model_packages import *\n",
    "from model_utils import *\n",
    "import re"
   ]
  },
  {
   "attachments": {},
   "cell_type": "markdown",
   "metadata": {},
   "source": [
    "# Load Model"
   ]
  },
  {
   "cell_type": "code",
   "execution_count": null,
   "metadata": {},
   "outputs": [],
   "source": [
    "\n",
    "model = load_model(data_folder+'voting_regressor_model') "
   ]
  },
  {
   "attachments": {},
   "cell_type": "markdown",
   "metadata": {},
   "source": [
    "# Format input data"
   ]
  },
  {
   "cell_type": "code",
   "execution_count": null,
   "metadata": {},
   "outputs": [],
   "source": [
    "ts_input_data= pd.read_pickle(data_folder+f'test_sites_static_and_dynamic_features_{bufr_zones_mrts}.pkl')\n",
    "ts_input_data[['amenity_bar', 'amenity_bus_station', 'amenity_food_court', 'amenity_taxi_station', 'amenity_coach_parking', 'amenity_beer_garden']] = 0\n",
    "\n",
    "df, lnd_ftrs, hbt_ftrs= preprocess_input_data(ts_input_data)\n",
    "\n",
    "# create dummy variables for categorical data\n",
    "df=pd.get_dummies(df,columns=['land_type_labels'])\n",
    "df=pd.get_dummies(df,columns=['land_habitat_labels'])\n",
    "df['counter']= df['site']"
   ]
  },
  {
   "cell_type": "code",
   "execution_count": null,
   "metadata": {},
   "outputs": [],
   "source": [
    "# If test locations dont have certain features present e.g. no 'amenity_pub' \n",
    "# or no test location labled 'land_type_labels_rural_settings' these columns must be added \n",
    "\n",
    "\n",
    "df[['land_habitat_labels_Grassland_woodland_bareground', 'land_type_labels_rural_settings', 'land_type_labels_urban_settings']]= 0\n",
    "df[['land_habitat_labels_Grassland_woodland_bareground', 'land_type_labels_rural_settings', 'land_type_labels_urban_settings']]= df[['land_habitat_labels_Grassland_woodland_bareground', 'land_type_labels_rural_settings', 'land_type_labels_urban_settings']].astype(np.uint8)"
   ]
  },
  {
   "attachments": {},
   "cell_type": "markdown",
   "metadata": {},
   "source": [
    "# Generate Predictions"
   ]
  },
  {
   "cell_type": "code",
   "execution_count": null,
   "metadata": {},
   "outputs": [],
   "source": [
    "# columns of input data set must match the columns present when training the model\n",
    "# these can be found in data/training_predictions.pkl\n",
    "test_site_predictions= predict_model(model, data=df[['counter','Date', 'Dog', 'accessible_green_space_area', 'PROW_Total_length_km', 'waterside_length_km', 'land_type_labels_mixed_settings', 'land_habitat_labels_Grassland_woodland_wetland', 'amenity_bar', 'amenity_parking', 'amenity_pub', 'amenity_toilets', 'amenity_beer_garden', 'amenity_bus_station', 'amenity_food_court', 'amenity_taxi_station', 'amenity_coach_parking', 'Age group 0-25', 'Age group 25-65', 'Household is deprived in at least 1 dimension', 'Unemployed_population', 'Asian, Asian British or Asian Welsh', '2 or more cars or vans in household', 'Population Density: Persons per square kilometre; measures: Value', 'total_trip_count', 'tavg']])"
   ]
  }
 ],
 "metadata": {
  "kernelspec": {
   "display_name": "req_old",
   "language": "python",
   "name": "python3"
  },
  "language_info": {
   "codemirror_mode": {
    "name": "ipython",
    "version": 3
   },
   "file_extension": ".py",
   "mimetype": "text/x-python",
   "name": "python",
   "nbconvert_exporter": "python",
   "pygments_lexer": "ipython3",
   "version": "3.10.9"
  },
  "orig_nbformat": 4,
  "vscode": {
   "interpreter": {
    "hash": "73dd042dec22895802a5cf4c230cd0d0aa33a4e312107f26490806e8c532eb8a"
   }
  }
 },
 "nbformat": 4,
 "nbformat_minor": 2
}
