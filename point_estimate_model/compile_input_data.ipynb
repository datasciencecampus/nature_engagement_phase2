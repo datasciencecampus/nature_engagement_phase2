{
 "cells": [
  {
   "cell_type": "code",
   "execution_count": null,
   "metadata": {},
   "outputs": [],
   "source": [
    "import os\n",
    "os.chdir('..')"
   ]
  },
  {
   "cell_type": "code",
   "execution_count": null,
   "metadata": {},
   "outputs": [],
   "source": [
    "import model_config \n",
    "from model_packages import *\n",
    "from model_utils import *\n",
    "\n",
    "import add_counter_location_info \n",
    "# import add_census_features \n",
    "import add_census_features_2021\n",
    "import add_green_blue_infrastructure\n",
    "import add_land_classification\n",
    "import add_land_habitat_data\n",
    "import add_dog_occupancy\n",
    "import add_weather\n",
    "import add_POIs\n",
    "import add_strava_data\n",
    "import add_counter_data\n"
   ]
  },
  {
   "cell_type": "code",
   "execution_count": null,
   "metadata": {},
   "outputs": [],
   "source": [
    "# Running each main function to generate static features data set\n",
    "add_counter_location_info.main()\n",
    "# add_census_features.main()\n",
    "add_census_features_2021.main()\n",
    "add_green_blue_infrastructure.main()\n",
    "add_land_classification.main()\n",
    "add_land_habitat_data.main()\n",
    "add_dog_occupancy.main()\n",
    "add_POIs.main()\n",
    "\n",
    "# access config file to loop through providers and datasets\n",
    "config= add_counter_location_info.get_config_file_paths('./scripts/config.json')\n",
    "\n",
    "# process people_counter data for each provider\n",
    "for provider, info in config.items():\n",
    "    print(f'>>>>>>>>>>>>>{info[\"pc_path\"]}')\n",
    "    info['cut_off_year']\n",
    "    add_counter_data.main(provider, info['pc_path'].strip(\"'\"), info['cut_off_year'])\n",
    "\n",
    "# process strava data for each provider\n",
    "for provider, info in config.items():\n",
    "    print(f'>>>>>>>>>>>>>{info[\"strava_path\"]}')\n",
    "    add_strava_data.main(provider, info['strava_path'])\n",
    "    \n",
    "\n",
    "\n",
    "# combine counts data for all providers\n",
    "dfs=[]\n",
    "for provider, info in config.items():\n",
    "    df= pd.read_pickle(data_folder+f'pc_and_strava_{provider}.pkl')\n",
    "    dfs.append(df)\n",
    "\n",
    "combined_df = pd.concat(dfs, ignore_index=True)\n",
    "combined_df['Date']=combined_df['Date'].astype(str)\n",
    "\n",
    "\n",
    "# merge with weather features\n",
    "add_weather.main()\n",
    "weather= pd.read_pickle(data_folder+'weather_data.pkl')\n",
    "weather['Date']=weather['Date'].astype(str)\n",
    "dynamic= weather.merge(combined_df, on= ['Date', 'site'], how = 'right')\n",
    "\n",
    "# merge with static features\n",
    "static= pd.read_pickle(data_folder+'static_data.pkl')\n",
    "static_and_dynamic_features= dynamic.merge(static, left_on= 'site', right_on='counter', how= 'inner')\n",
    "\n",
    "# save data of static and dynamic features for modelling\n",
    "static_and_dynamic_features.to_pickle(data_folder+f'static_and_dynamic_features_{bufr_zones_mrts}.pkl')"
   ]
  },
  {
   "attachments": {},
   "cell_type": "markdown",
   "metadata": {},
   "source": [
    "# Plotting for number of available counters"
   ]
  },
  {
   "cell_type": "code",
   "execution_count": null,
   "metadata": {},
   "outputs": [],
   "source": [
    "df_raw, df_monthly_ne, df_smooth, up, low= add_counter_data.main('ne',\"./data/counter_data/natural_england_national_trails_people_counters_data_2020-01_to_2023-09.csv\", 2020)"
   ]
  },
  {
   "cell_type": "code",
   "execution_count": null,
   "metadata": {},
   "outputs": [],
   "source": [
    "df_raw, df_monthly_ndw, df_smooth, up, low= add_counter_data.main('ndw',\"./data/counter_data/north_downs_way_people_counters_data_2020-01_to_2023-09.csv\", 2021)"
   ]
  },
  {
   "cell_type": "code",
   "execution_count": null,
   "metadata": {},
   "outputs": [],
   "source": [
    "df_raw, df_monthly_t, df_smooth, up, low= add_counter_data.main('t',\"./data/counter_data/thames_reformatted.csv\", 2020)"
   ]
  },
  {
   "cell_type": "code",
   "execution_count": null,
   "metadata": {},
   "outputs": [],
   "source": [
    "df_raw, df_monthly_d, df_smooth, up, low= add_counter_data.main('d',\"./data/counter_data/Dorset_refromatted.csv\", 2020)"
   ]
  },
  {
   "cell_type": "code",
   "execution_count": null,
   "metadata": {},
   "outputs": [],
   "source": [
    "df2= df_monthly_ne.merge(df_monthly_ndw, on='Date', how= 'outer')\n",
    "df2= df2.merge(df_monthly_t, on='Date',how= 'outer')\n",
    "df2= df2.merge(df_monthly_d, on='Date', how= 'outer')\n",
    "df2"
   ]
  },
  {
   "cell_type": "code",
   "execution_count": null,
   "metadata": {},
   "outputs": [],
   "source": [
    "df_m2= df2.reset_index().melt(id_vars=['Date'], var_name='site', value_name='people_count')"
   ]
  },
  {
   "cell_type": "code",
   "execution_count": null,
   "metadata": {},
   "outputs": [],
   "source": [
    "df_m2.dropna().groupby('Date')['site'].count().plot(style='-o')\n",
    "plt.ylabel('Number of monitoring sites with training data available')"
   ]
  },
  {
   "cell_type": "code",
   "execution_count": null,
   "metadata": {},
   "outputs": [],
   "source": []
  }
 ],
 "metadata": {
  "kernelspec": {
   "display_name": "req_old",
   "language": "python",
   "name": "python3"
  },
  "language_info": {
   "codemirror_mode": {
    "name": "ipython",
    "version": 3
   },
   "file_extension": ".py",
   "mimetype": "text/x-python",
   "name": "python",
   "nbconvert_exporter": "python",
   "pygments_lexer": "ipython3",
   "version": "3.10.9 (main, Jan 11 2023, 14:59:37) [Clang 14.0.0 (clang-1400.0.29.202)]"
  },
  "orig_nbformat": 4,
  "vscode": {
   "interpreter": {
    "hash": "73dd042dec22895802a5cf4c230cd0d0aa33a4e312107f26490806e8c532eb8a"
   }
  }
 },
 "nbformat": 4,
 "nbformat_minor": 2
}
