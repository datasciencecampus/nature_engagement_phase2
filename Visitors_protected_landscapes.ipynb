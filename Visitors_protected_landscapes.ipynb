{
 "cells": [
  {
   "cell_type": "code",
   "execution_count": null,
   "id": "c5bf1203",
   "metadata": {},
   "outputs": [],
   "source": [
    "%reload_ext autoreload\n",
    "%autoreload 2\n",
    "\n",
    "# All the packages are defined in the Config file\n",
    "from model_packages import *\n",
    "\n",
    "# All the variables are defined in the Config file\n",
    "from model_config import *\n",
    "\n",
    "# All the functions are defined in the Config file\n",
    "from model_utils import *\n",
    "\n",
    "# https://geographicdata.science/book/notebooks/10_clustering_and_regionalization.html"
   ]
  },
  {
   "cell_type": "code",
   "execution_count": null,
   "id": "d626e9e7",
   "metadata": {},
   "outputs": [],
   "source": []
  },
  {
   "cell_type": "markdown",
   "id": "f14afa14",
   "metadata": {},
   "source": [
    "1.Read the locations of the sites"
   ]
  },
  {
   "cell_type": "code",
   "execution_count": null,
   "id": "bd57e0ca",
   "metadata": {},
   "outputs": [],
   "source": [
    "# Ensure we read those sites which have gone through the pre-processing stage\n",
    "\n",
    "data_processed_sites=pd.read_pickle('./data/static_and_dynamic_features.pkl')\n",
    "\n",
    "data_processed_sites=data_processed_sites[~(data_processed_sites['counter'].isin(['Galley_Hall','Reigate_Fort']))].\\\n",
    "reset_index(drop=True)\n",
    "\n"
   ]
  },
  {
   "cell_type": "markdown",
   "id": "6ec89df4",
   "metadata": {},
   "source": [
    "2.Counters for each provider"
   ]
  },
  {
   "cell_type": "code",
   "execution_count": null,
   "id": "5d8c17d7",
   "metadata": {},
   "outputs": [],
   "source": [
    "data_processed=data_processed_sites.copy()\n",
    "data_processed=gpd.GeoDataFrame(data_processed[['site','provider','geometry']].drop_duplicates())\n",
    "\n",
    "data_processed.geometry=data_processed.geometry.to_crs(crs_mtr).centroid\n",
    "\n",
    "print(data_processed['provider'].value_counts())\n",
    "\n",
    "data_processed.explore(column='provider',cmap='viridis',legend=True)"
   ]
  },
  {
   "cell_type": "code",
   "execution_count": null,
   "id": "1edd7357",
   "metadata": {
    "scrolled": false
   },
   "outputs": [],
   "source": [
    "# Visual of the visitation count time series for each provider\n",
    "\n",
    "new_df=data_processed_sites[['people_counter_data','total_trip_count','site',\\\n",
    "                                                          'counter','provider','geometry','Date']]\n",
    "\n",
    "new_df = new_df.groupby(['Date','provider'])['people_counter_data'].sum().unstack()\n",
    "\n",
    "new_df.plot(style='-o')\n",
    "plt.ylabel('People count')"
   ]
  },
  {
   "cell_type": "markdown",
   "id": "3fdee567",
   "metadata": {},
   "source": [
    "3.Counters for each region"
   ]
  },
  {
   "cell_type": "code",
   "execution_count": null,
   "id": "1142a7f9",
   "metadata": {},
   "outputs": [],
   "source": [
    "# Counter locations overlap with regions\n",
    "\n",
    "counters_locn=data_processed.copy()\n",
    "\n",
    "counters_locn.rename(columns={'site':'counter'},inplace=True)\n",
    "\n",
    "\n",
    "#counters_locn['provider'].value_counts()\n",
    "\n",
    "regions=gpd.read_file('./data/regions/')\n",
    "\n",
    "sites_per_region=gpd.overlay(counters_locn.to_crs(regions.crs),regions, how='intersection')\n",
    "\n",
    "sites_per_region_count=sites_per_region.groupby(['RGN20NM','provider'])['counter'].count().reset_index()#.plot(kind='bar',stacked=True)\n",
    "\n",
    "\n",
    "sites_per_region_count=sites_per_region_count.sort_values(by='counter').reset_index()\n",
    "\n",
    "fig = px.bar(sites_per_region_count, x='RGN20NM', y=\"counter\", color=\"provider\",barmode='group')#,markers=True,symbol=\"season\")\n",
    "\n",
    "fig.update_traces(marker=dict(size=15,\n",
    "                              line=dict(width=2,\n",
    "                                        color='DarkSlateGrey')),\n",
    "                  selector=dict(mode='markers'))\n",
    "fig.update_layout(yaxis_title=\"Number of counters\")\n",
    "\n",
    "fig.show()"
   ]
  },
  {
   "cell_type": "code",
   "execution_count": null,
   "id": "307a76a9",
   "metadata": {},
   "outputs": [],
   "source": [
    "sites_per_region.explore(column='RGN20NM')\n"
   ]
  },
  {
   "cell_type": "code",
   "execution_count": null,
   "id": "645fbe83",
   "metadata": {},
   "outputs": [],
   "source": [
    "sites_per_region_count.groupby(['RGN20NM'])['counter'].sum().sort_values().plot(kind='barh')"
   ]
  },
  {
   "cell_type": "markdown",
   "id": "b09465aa",
   "metadata": {},
   "source": [
    "4.Counters within protected landscapes"
   ]
  },
  {
   "cell_type": "code",
   "execution_count": null,
   "id": "f9286926",
   "metadata": {},
   "outputs": [],
   "source": [
    "#buffer around protected landscapes\n",
    "\n",
    "counters_locn.geometry=counters_locn.geometry.buffer(5000)"
   ]
  },
  {
   "cell_type": "code",
   "execution_count": null,
   "id": "0bd83736",
   "metadata": {},
   "outputs": [],
   "source": [
    "#protected landscapes: National Parks/AONB\n",
    "\n",
    "np=gpd.read_file(national_park_data).to_crs(crs_mtr)\n",
    "\n",
    "np['Type']='National park'\n",
    "\n",
    "aonb=gpd.read_file('./data/AONB').to_crs(crs_mtr)\n",
    "\n",
    "aonb['Type']='AONB'\n",
    "\n",
    "area_of_intetest=gpd.GeoDataFrame(pd.concat([np[['name','geometry','Type']],\\\n",
    "                                             aonb[['name','geometry','Type']]], ignore_index=True))\n",
    "\n",
    "ax=area_of_intetest.to_crs(crs_deg).plot(column='Type',legend=True)\n",
    "cx.add_basemap(ax, crs = crs_deg, source = cx.providers.OpenStreetMap.Mapnik)\n",
    "\n",
    "print(area_of_intetest['Type'].value_counts())"
   ]
  },
  {
   "cell_type": "code",
   "execution_count": null,
   "id": "ed5df818",
   "metadata": {},
   "outputs": [],
   "source": [
    "# spatial overlap between counter locations and protected landscapes\n",
    "\n",
    "sites_area_of_intetest=gpd.overlay(counters_locn.to_crs(area_of_intetest.crs),area_of_intetest, how='intersection')\n",
    "\n",
    "\n",
    "sites_area_of_intetest.geometry=sites_area_of_intetest.geometry.centroid"
   ]
  },
  {
   "cell_type": "code",
   "execution_count": null,
   "id": "00a91b04",
   "metadata": {},
   "outputs": [],
   "source": [
    "print(sites_area_of_intetest.groupby(['Type'])['counter'].count())"
   ]
  },
  {
   "cell_type": "code",
   "execution_count": null,
   "id": "832f64fb",
   "metadata": {},
   "outputs": [],
   "source": [
    "print(sites_area_of_intetest.groupby(['Type','name'])['counter'].count())"
   ]
  },
  {
   "cell_type": "code",
   "execution_count": null,
   "id": "6483bdc3",
   "metadata": {},
   "outputs": [],
   "source": [
    "sites_protected_count=sites_area_of_intetest.groupby(['provider','Type'])['counter'].count().reset_index()\n",
    "\n",
    "sites_protected_count\n",
    "\n",
    "\n",
    "fig = px.bar(sites_protected_count, x='provider', y=\"counter\", color=\"Type\",barmode='group')#,markers=True,symbol=\"season\")\n",
    "\n",
    "fig.update_traces(marker=dict(size=15,\n",
    "                              line=dict(width=2,\n",
    "                                        color='DarkSlateGrey')),\n",
    "                  selector=dict(mode='markers'))\n",
    "fig.update_layout(yaxis_title=\"Number of counters\")\n",
    "\n",
    "fig.show()"
   ]
  },
  {
   "cell_type": "code",
   "execution_count": null,
   "id": "bc5f0943",
   "metadata": {},
   "outputs": [],
   "source": [
    "ax=area_of_intetest.to_crs(crs_deg).plot()\n",
    "sites_area_of_intetest.to_crs(crs_deg).plot(ax=ax,column='Type',legend=True,cmap='rainbow')\n",
    "cx.add_basemap(ax, crs = crs_deg, source = cx.providers.OpenStreetMap.Mapnik)"
   ]
  },
  {
   "cell_type": "code",
   "execution_count": null,
   "id": "fc9763fa",
   "metadata": {},
   "outputs": [],
   "source": [
    "sites_area_of_intetest.explore(column='name')\n"
   ]
  },
  {
   "cell_type": "code",
   "execution_count": null,
   "id": "56843687",
   "metadata": {},
   "outputs": [],
   "source": [
    "\n",
    "\n",
    "sites_area_intrst=sites_area_of_intetest.groupby(['provider','name'])['counter'].count().reset_index()\n",
    "\n",
    "fig = px.bar(sites_area_intrst, x='provider', y=\"counter\", color=\"name\",barmode='group')#,markers=True,symbol=\"season\")\n",
    "\n",
    "fig.update_traces(marker=dict(size=15,\n",
    "                              line=dict(width=2,\n",
    "                                        color='DarkSlateGrey')),\n",
    "                  selector=dict(mode='markers'))\n",
    "fig.update_layout(yaxis_title=\"Number of counters\")\n",
    "\n",
    "fig.show()"
   ]
  },
  {
   "cell_type": "markdown",
   "id": "82722f0e",
   "metadata": {},
   "source": [
    "5. Reading Census 2021 data"
   ]
  },
  {
   "cell_type": "code",
   "execution_count": null,
   "id": "a936f53d",
   "metadata": {},
   "outputs": [],
   "source": [
    "oa_2021=gpd.read_file(data_folder_census+'oa_2021')\n",
    "\n",
    "oa_2021=oa_2021[oa_2021['OA21CD'].str.lower().str.startswith('e')].reset_index(drop=True)\n",
    "\n",
    "\n",
    "print(oa_2021.shape)"
   ]
  },
  {
   "cell_type": "code",
   "execution_count": null,
   "id": "c45f61b0",
   "metadata": {},
   "outputs": [],
   "source": [
    "df_densty=pd.read_csv(data_folder_census+'dens_2021.csv',skiprows=7,sep=',')\n",
    "\n",
    "\n",
    "df_densty=df_densty[['mnemonic','2021']]\n",
    "\n",
    "\n",
    "df_densty=df_densty.dropna().reset_index(drop=True)\n",
    "\n",
    "df_densty.rename(columns={'mnemonic':'OA21CD','2021':'residents_per_square_kilometre'},inplace=True)\n",
    "\n",
    "df_densty=df_densty[df_densty['OA21CD'].str.startswith('E')].reset_index(drop=True)\n",
    "\n",
    "\n",
    "print(df_densty.shape)\n",
    "\n"
   ]
  },
  {
   "cell_type": "code",
   "execution_count": null,
   "id": "0de61a23",
   "metadata": {},
   "outputs": [],
   "source": [
    "df_hh=pd.read_csv(data_folder_census+'hh_2021.csv',skiprows=7,sep=',')\n",
    "\n",
    "\n",
    "df_hh=df_hh[[x for x in df_hh.columns if x not in ['2021 output area']]]\n",
    "\n",
    "\n",
    "df_hh=df_hh.dropna().reset_index(drop=True)\n",
    "\n",
    "df_hh.rename(columns={'mnemonic':'OA21CD'},inplace=True)\n",
    "\n",
    "df_hh=df_hh[df_hh['OA21CD'].str.startswith('E')].reset_index(drop=True)\n",
    "\n",
    "\n",
    "print(df_hh.shape)\n",
    "\n"
   ]
  },
  {
   "cell_type": "code",
   "execution_count": null,
   "id": "253052af",
   "metadata": {},
   "outputs": [],
   "source": [
    "df_age=pd.read_csv(data_folder_census+'age_2021.csv',skiprows=4,sep=',')\n",
    "\n",
    "\n",
    "df_age=df_age[[x for x in df_age.columns if x not in ['2021 output area']]]\n",
    "\n",
    "\n",
    "df_age=df_age.dropna().reset_index(drop=True)\n",
    "\n",
    "df_age.rename(columns={'mnemonic':'OA21CD'},inplace=True)\n",
    "\n",
    "df_age=df_age[df_age['OA21CD'].str.startswith('E')].reset_index(drop=True)\n",
    "\n",
    "\n",
    "print(df_age.shape)\n",
    "\n"
   ]
  },
  {
   "cell_type": "code",
   "execution_count": null,
   "id": "7eb7005a",
   "metadata": {},
   "outputs": [],
   "source": [
    "df_hh_deprv=pd.read_csv(data_folder_census+'hh_deprv_2021.csv',skiprows=7,sep=',')\n",
    "\n",
    "\n",
    "\n",
    "\n",
    "df_hh_deprv=df_hh_deprv[[x for x in df_hh_deprv.columns if x not in ['2021 output area']]]\n",
    "\n",
    "\n",
    "df_hh_deprv=df_hh_deprv.dropna().reset_index(drop=True)\n",
    "\n",
    "df_hh_deprv.rename(columns={'mnemonic':'OA21CD'},inplace=True)\n",
    "\n",
    "df_hh_deprv=df_hh_deprv[df_hh_deprv['OA21CD'].str.startswith('E')].reset_index(drop=True)\n",
    "\n",
    "\n",
    "print(df_hh_deprv.shape)\n",
    "\n"
   ]
  },
  {
   "cell_type": "code",
   "execution_count": null,
   "id": "8f40ffb8",
   "metadata": {},
   "outputs": [],
   "source": [
    "df_ethnc=pd.read_csv(data_folder_census+'ethnc_2021.csv',skiprows=7,sep=',')\n",
    "\n",
    "\n",
    "\n",
    "\n",
    "df_ethnc=df_ethnc[[x for x in df_ethnc.columns if x not in ['2021 output area']]]\n",
    "\n",
    "\n",
    "df_ethnc=df_ethnc.dropna().reset_index(drop=True)\n",
    "\n",
    "df_ethnc.rename(columns={'mnemonic':'OA21CD'},inplace=True)\n",
    "\n",
    "df_ethnc=df_ethnc[df_ethnc['OA21CD'].str.startswith('E')].reset_index(drop=True)\n",
    "\n",
    "\n",
    "print(df_ethnc.shape)\n",
    "\n"
   ]
  },
  {
   "cell_type": "code",
   "execution_count": null,
   "id": "30cc6e6e",
   "metadata": {},
   "outputs": [],
   "source": [
    "df_health=pd.read_csv(data_folder_census+'health_2021.csv',skiprows=7,sep=',')\n",
    "\n",
    "\n",
    "\n",
    "\n",
    "df_health=df_health[[x for x in df_health.columns if x not in ['2021 output area']]]\n",
    "\n",
    "\n",
    "df_health=df_health.dropna().reset_index(drop=True)\n",
    "\n",
    "df_health.rename(columns={'mnemonic':'OA21CD'},inplace=True)\n",
    "\n",
    "df_health=df_health[df_health['OA21CD'].str.startswith('E')].reset_index(drop=True)\n",
    "\n",
    "\n",
    "print(df_health.shape)\n",
    "\n"
   ]
  },
  {
   "cell_type": "code",
   "execution_count": null,
   "id": "b30865bd",
   "metadata": {},
   "outputs": [],
   "source": [
    "df_cars=pd.read_csv(data_folder_census+'cars_2021.csv',skiprows=7,sep=',')\n",
    "\n",
    "\n",
    "\n",
    "\n",
    "df_cars=df_cars[[x for x in df_cars.columns if x not in ['2021 output area']]]\n",
    "\n",
    "\n",
    "df_cars=df_cars.dropna().reset_index(drop=True)\n",
    "\n",
    "df_cars.rename(columns={'mnemonic':'OA21CD'},inplace=True)\n",
    "\n",
    "df_cars=df_cars[df_cars['OA21CD'].str.startswith('E')].reset_index(drop=True)\n",
    "\n",
    "\n",
    "print(df_cars.shape)\n",
    "\n"
   ]
  },
  {
   "cell_type": "code",
   "execution_count": null,
   "id": "0beeee19",
   "metadata": {},
   "outputs": [],
   "source": [
    "\n",
    "df_economic_actv=pd.read_csv(data_folder_census+'economic_actv_2021.csv',skiprows=7,sep=',')\n",
    "\n",
    "\n",
    "\n",
    "\n",
    "df_economic_actv=df_economic_actv[[x for x in df_economic_actv.columns if x not in ['2021 output area']]]\n",
    "\n",
    "\n",
    "df_economic_actv=df_economic_actv.dropna().reset_index(drop=True)\n",
    "\n",
    "df_economic_actv.rename(columns={'mnemonic':'OA21CD'},inplace=True)\n",
    "\n",
    "df_economic_actv=df_economic_actv[df_economic_actv['OA21CD'].str.startswith('E')].reset_index(drop=True)\n",
    "\n",
    "\n",
    "print(df_economic_actv.shape)\n",
    "\n"
   ]
  },
  {
   "cell_type": "code",
   "execution_count": null,
   "id": "dabc977b",
   "metadata": {},
   "outputs": [],
   "source": [
    "df_census=reduce(lambda x,y: pd.merge(x,y, on='OA21CD', how='inner'),\\\n",
    "                 [df_densty,df_hh,df_age,df_hh_deprv,df_ethnc,df_health,df_cars,df_economic_actv]).dropna()"
   ]
  },
  {
   "cell_type": "code",
   "execution_count": null,
   "id": "ec44fa49",
   "metadata": {},
   "outputs": [],
   "source": [
    "df_census=oa_2021[['OA21CD','geometry']].merge(df_census,on=['OA21CD']).dropna()"
   ]
  },
  {
   "cell_type": "code",
   "execution_count": null,
   "id": "f17562d9",
   "metadata": {},
   "outputs": [],
   "source": [
    "df_census=df_census.to_crs(crs_mtr)"
   ]
  },
  {
   "cell_type": "code",
   "execution_count": null,
   "id": "f5040816",
   "metadata": {},
   "outputs": [],
   "source": [
    "densty_ftr=['residents_per_square_kilometre']\n",
    "\n",
    "hh_extra_ftr=['3 people in household','4 people in household', '5 people in household',\\\n",
    "              '6 people in household','7 people in household','8 or more people in household']\n",
    "\n",
    "\n",
    "df_census['3 or more people in household']=df_census[hh_extra_ftr].sum(axis=1)\n",
    "\n",
    "\n",
    "hh_ftr=['1 person in household','2 people in household','3 or more people in household']\n",
    "\n",
    "df_census['Aged 0-24 years']=df_census[['Aged 4 years and under',\\\n",
    "                                                                'Aged 5 to 9 years',\\\n",
    "                                                                'Aged 10 to 14 years',\\\n",
    "                                                                'Aged 15 to 19 years',\\\n",
    "                                                                'Aged 20 to 24 years']].sum(axis=1)\n",
    "\n",
    "df_census['Aged 25-49 years']=df_census[['Aged 25 to 29 years', 'Aged 30 to 34 years',\\\n",
    "                                                                 'Aged 35 to 39 years', 'Aged 40 to 44 years',\\\n",
    "                                                                 'Aged 45 to 49 years']].sum(axis=1)\n",
    "\n",
    "\n",
    "df_census['Aged 50-64 years']=df_census[['Aged 50 to 54 years', 'Aged 55 to 59 years',\\\n",
    "                                                                 'Aged 60 to 64 years']].sum(axis=1)\n",
    "\n",
    "\n",
    "df_census['Aged 65_plus years']=df_census[['Aged 65 to 69 years', 'Aged 70 to 74 years',\\\n",
    "                                                                   'Aged 75 to 79 years','Aged 80 to 84 years',\\\n",
    "                                                                   'Aged 85 years and over']].sum(axis=1)\n",
    "\n",
    "\n",
    "age_ftr=['Aged 0-24 years','Aged 25-49 years','Aged 50-64 years','Aged 65_plus years']\n",
    "\n",
    "\n",
    "df_census['Household is deprived in at least one dimension']=df_census[['Household is deprived in one dimension',\\\n",
    "                                                                        'Household is deprived in two dimensions',\\\n",
    "                                                                        'Household is deprived in three dimensions',\\\n",
    "                                                                        'Household is deprived in four dimensions']].\\\n",
    "sum(axis=1)\n",
    "\n",
    "\n",
    "deprv_ftr=['Household is not deprived in any dimension','Household is deprived in at least one dimension']\n",
    "\n",
    "df_census['Non_White']=df_census[['Asian, Asian British or Asian Welsh',\\\n",
    "                                  'Black, Black British, Black Welsh, Caribbean or African',\\\n",
    "                                  'Mixed or Multiple ethnic groups', 'Other ethnic group']].\\\n",
    "sum(axis=1)\n",
    "\n",
    "\n",
    "\n",
    "ethnc_ftr=['White','Non_White']\n",
    "\n",
    "df_census['Good Health']=df_census[['Very good health', 'Good health','Fair health']].sum(axis=1)\n",
    "\n",
    "\n",
    "df_census['Bad Health']=df_census[['Bad health','Very bad health']].sum(axis=1)\n",
    "\n",
    "\n",
    "hlth_ftr=['Good Health','Bad Health']\n",
    "\n",
    "\n",
    "df_census['1 or more car or van in household']=df_census[['1 car or van in household',\\\n",
    "                                                                    '2 cars or vans in household',\\\n",
    "                                                                    '3 or more cars or vans in household']].\\\n",
    "sum(axis=1)\n",
    "\n",
    "\n",
    "\n",
    "\n",
    "car_ftr=['No cars or vans in household','1 or more car or van in household']\n",
    "\n",
    "\n",
    "df_census['Economically active']=\\\n",
    "df_census[['Economically active (excluding full-time students)',\\\n",
    "                       'Economically active and a full-time student']].sum(axis=1)\n",
    "\n",
    "\n",
    "\n",
    "\n",
    "ecnmc_ftr=['Economically active', 'Economically inactive']\n",
    "\n"
   ]
  },
  {
   "cell_type": "code",
   "execution_count": null,
   "id": "3938e33a",
   "metadata": {},
   "outputs": [],
   "source": [
    "# Normalise Features: so each feature is now a proportion\n",
    "\n",
    "df_census_norm=df_census.copy()\n",
    "\n",
    "df_census_norm[densty_ftr]=df_census_norm[densty_ftr]\n",
    "\n",
    "df_census_norm[hh_ftr]=(df_census_norm[hh_ftr]/(df_census_norm[hh_ftr].sum(axis=0).sum(axis=0)))\n",
    "\n",
    "df_census_norm[age_ftr]=(df_census_norm[age_ftr]/(df_census_norm[age_ftr].sum(axis=0).sum(axis=0)))\n",
    "\n",
    "df_census_norm[deprv_ftr]=(df_census_norm[deprv_ftr]/(df_census_norm[deprv_ftr].sum(axis=0).sum(axis=0)))\n",
    "\n",
    "df_census_norm[ethnc_ftr]=(df_census_norm[ethnc_ftr]/(df_census_norm[ethnc_ftr].sum(axis=0).sum(axis=0)))\n",
    "\n",
    "df_census_norm[hlth_ftr]=(df_census_norm[hlth_ftr]/(df_census_norm[hlth_ftr].sum(axis=0).sum(axis=0)))\n",
    "\n",
    "df_census_norm[car_ftr]=(df_census_norm[car_ftr]/(df_census_norm[car_ftr].sum(axis=0).sum(axis=0)))\n",
    "\n",
    "df_census_norm[ecnmc_ftr]=(df_census_norm[ecnmc_ftr]/(df_census_norm[ecnmc_ftr].sum(axis=0).sum(axis=0)))\n",
    "\n",
    "\n",
    "ftr_list=[hh_ftr,age_ftr,deprv_ftr,ethnc_ftr,hlth_ftr,car_ftr,ecnmc_ftr]\n",
    "\n",
    "# Find features values for all of England\n",
    "census_eng_df=[]\n",
    "for ftrs in ftr_list:\n",
    "    \n",
    "    tmp_df=pd.DataFrame(df_census_norm[ftrs].sum()).rename(columns={0:'England'}).reset_index().\\\n",
    "    rename(columns={'index':'Feature'})\n",
    "    \n",
    "    census_eng_df.append(tmp_df)\n",
    "    \n",
    "    \n",
    "    \n",
    "# England- population density\n",
    "pop_densty_eng=((df_census_norm[densty_ftr[0]]*(df_census_norm.area*(10**(-6)))).sum())/\\\n",
    "((df_census_norm.area*(10**(-6))).sum())\n",
    "\n",
    "# create a list of new rows\n",
    "new_df = pd.DataFrame([{'Feature': densty_ftr[0], 'England':pop_densty_eng}])\n",
    "\n",
    "\n",
    "\n",
    "# append the new rows to the DataFrame\n",
    "census_eng_df = pd.concat([pd.concat(census_eng_df,ignore_index=True),new_df], ignore_index=True)\n",
    "\n"
   ]
  },
  {
   "cell_type": "code",
   "execution_count": null,
   "id": "dbbf20d7",
   "metadata": {},
   "outputs": [],
   "source": [
    "# Gather census features around the counter sites\n",
    "\n",
    "\n",
    "df_census_sites_intrsctn=gpd.overlay(df_census,counters_locn, how='intersection')\n",
    "\n",
    "df_census_sites_intrsctn[densty_ftr]=df_census_sites_intrsctn[densty_ftr]\n",
    "\n",
    "df_census_sites_intrsctn[hh_ftr]=(df_census_sites_intrsctn[hh_ftr]/\\\n",
    "                                  (df_census_sites_intrsctn[hh_ftr].sum(axis=0).sum(axis=0)))\n",
    "\n",
    "df_census_sites_intrsctn[age_ftr]=(df_census_sites_intrsctn[age_ftr]/\\\n",
    "                                   (df_census_sites_intrsctn[age_ftr].sum(axis=0).sum(axis=0)))\n",
    "\n",
    "df_census_sites_intrsctn[deprv_ftr]=(df_census_sites_intrsctn[deprv_ftr]/\\\n",
    "                                     (df_census_sites_intrsctn[deprv_ftr].sum(axis=0).sum(axis=0)))\n",
    "\n",
    "df_census_sites_intrsctn[ethnc_ftr]=(df_census_sites_intrsctn[ethnc_ftr]/\\\n",
    "                                     (df_census_sites_intrsctn[ethnc_ftr].sum(axis=0).sum(axis=0)))\n",
    "\n",
    "df_census_sites_intrsctn[hlth_ftr]=(df_census_sites_intrsctn[hlth_ftr]/\\\n",
    "                                    (df_census_sites_intrsctn[hlth_ftr].sum(axis=0).sum(axis=0)))\n",
    "\n",
    "df_census_sites_intrsctn[car_ftr]=(df_census_sites_intrsctn[car_ftr]/\\\n",
    "                                   (df_census_sites_intrsctn[car_ftr].sum(axis=0).sum(axis=0)))\n",
    "\n",
    "df_census_sites_intrsctn[ecnmc_ftr]=(df_census_sites_intrsctn[ecnmc_ftr]/\\\n",
    "                                     (df_census_sites_intrsctn[ecnmc_ftr].sum(axis=0).sum(axis=0)))\n",
    "\n",
    "\n",
    "\n",
    "\n",
    "ftr_list=[hh_ftr,age_ftr,deprv_ftr,ethnc_ftr,hlth_ftr,car_ftr,ecnmc_ftr]\n",
    "\n",
    "\n",
    "census_sites_df=[]\n",
    "for ftrs in ftr_list:\n",
    "    \n",
    "    tmp_df=pd.DataFrame(df_census_sites_intrsctn[ftrs].sum()).rename(columns={0:'Counters'}).reset_index().\\\n",
    "    rename(columns={'index':'Feature'})\n",
    "    \n",
    "    census_sites_df.append(tmp_df)\n",
    "    \n",
    "    \n",
    "pop_densty_sites=((df_census_sites_intrsctn[densty_ftr[0]]*\\\n",
    "                   (df_census_sites_intrsctn.area*(10**(-6)))).sum())/\\\n",
    "((df_census_sites_intrsctn.area*(10**(-6))).sum())\n",
    "\n",
    "# create a list of new rows\n",
    "new_df = pd.DataFrame([{'Feature': densty_ftr[0], 'Counters':pop_densty_sites}])\n",
    "\n",
    "# append the new rows to the DataFrame\n",
    "census_sites_df = pd.concat([pd.concat(census_sites_df,ignore_index=True),new_df], ignore_index=True)\n",
    "\n",
    "\n",
    "\n"
   ]
  },
  {
   "cell_type": "code",
   "execution_count": null,
   "id": "9f310d2d",
   "metadata": {},
   "outputs": [],
   "source": [
    "# Combine the Census features for England and counter sites\n",
    "census_eng_sites_df=census_eng_df.merge(census_sites_df)\n",
    "\n",
    "\n",
    "census_eng_sites_df_splt=[]\n",
    "\n",
    "for ftrs in ftr_list+[densty_ftr]:\n",
    "    \n",
    "    census_eng_sites_df_splt.append(census_eng_sites_df[census_eng_sites_df['Feature'].isin(ftrs)])\n",
    "    \n",
    "    \n"
   ]
  },
  {
   "cell_type": "code",
   "execution_count": null,
   "id": "7a84bebd",
   "metadata": {},
   "outputs": [],
   "source": [
    "# Comparison of the distribution of the features: England vs counter sites\n",
    "\n",
    "f, axs = plt.subplots(nrows=round(len(census_eng_sites_df_splt)/2), ncols=2, figsize=(25,20))\n",
    "# Make the axes accessible with single indexing\n",
    "axs = axs.flatten()\n",
    "\n",
    "\n",
    "# Start a loop over all the variables of interest\n",
    "for i, col in enumerate(census_eng_sites_df_splt):\n",
    "    # select the axis where the map will go\n",
    "    ax = axs[i]\n",
    "    # Plot the map\n",
    "    col.set_index('Feature').plot(ax=ax,kind='barh',linewidth=0,fontsize=15)\n",
    "    # Remove axis clutter\n",
    "    #ax.set_axis_off()\n",
    "    # Set the axis title to the name of variable being plotted\n",
    "    #ax.set_title(col)\n",
    "# Display the figure\n",
    "plt.show()\n",
    "\n"
   ]
  },
  {
   "cell_type": "code",
   "execution_count": null,
   "id": "76951bb8",
   "metadata": {},
   "outputs": [],
   "source": [
    "# Gather census features around the protected landscapes\n",
    "\n",
    "df_census_np_intrsctn=gpd.overlay(df_census,area_of_intetest, how='intersection')\n",
    "\n",
    "cluster_variables=densty_ftr+hh_ftr+age_ftr+deprv_ftr+ethnc_ftr+hlth_ftr+car_ftr+ecnmc_ftr\n",
    "\n",
    "df_census_np_intrsctn=df_census_np_intrsctn[['geometry','name']+cluster_variables].copy()\n",
    "\n",
    "# Normalise all features (now representing proportions)\n",
    "\n",
    "df_census_np_intrsctn[densty_ftr]=df_census_np_intrsctn[densty_ftr]\n",
    "\n",
    "df_census_np_intrsctn[hh_ftr]=(df_census_np_intrsctn[hh_ftr]/(df_census_np_intrsctn[hh_ftr].sum(axis=0).sum(axis=0)))\n",
    "\n",
    "df_census_np_intrsctn[age_ftr]=(df_census_np_intrsctn[age_ftr]/(df_census_np_intrsctn[age_ftr].sum(axis=0).sum(axis=0)))\n",
    "\n",
    "df_census_np_intrsctn[deprv_ftr]=(df_census_np_intrsctn[deprv_ftr]/(df_census_np_intrsctn[deprv_ftr].sum(axis=0).sum(axis=0)))\n",
    "\n",
    "df_census_np_intrsctn[ethnc_ftr]=(df_census_np_intrsctn[ethnc_ftr]/(df_census_np_intrsctn[ethnc_ftr].sum(axis=0).sum(axis=0)))\n",
    "\n",
    "df_census_np_intrsctn[hlth_ftr]=(df_census_np_intrsctn[hlth_ftr]/(df_census_np_intrsctn[hlth_ftr].sum(axis=0).sum(axis=0)))\n",
    "\n",
    "df_census_np_intrsctn[car_ftr]=(df_census_np_intrsctn[car_ftr]/(df_census_np_intrsctn[car_ftr].sum(axis=0).sum(axis=0)))\n",
    "\n",
    "df_census_np_intrsctn[ecnmc_ftr]=(df_census_np_intrsctn[ecnmc_ftr]/(df_census_np_intrsctn[ecnmc_ftr].sum(axis=0).sum(axis=0)))\n",
    "                 \n",
    "\n"
   ]
  },
  {
   "cell_type": "markdown",
   "id": "761d7b84",
   "metadata": {},
   "source": [
    "6. Applying clustering"
   ]
  },
  {
   "cell_type": "code",
   "execution_count": null,
   "id": "b2737a0d",
   "metadata": {},
   "outputs": [],
   "source": [
    "\n",
    "# one might want to scale the features before clustering: but we have not done that\n",
    "\n",
    "df_census_np_intrsctn_scaled = df_census_np_intrsctn[[x for x in cluster_variables if x not in densty_ftr]]\n"
   ]
  },
  {
   "cell_type": "code",
   "execution_count": null,
   "id": "eb2e55c5",
   "metadata": {},
   "outputs": [],
   "source": [
    "# Find the optimal number of clusters\n",
    "\n",
    "Sum_of_squared_distances = []\n",
    "K = range(2,20)\n",
    "for num_clusters in K :\n",
    "    kmeans = KMeans(n_clusters=num_clusters)\n",
    "    kmeans.fit(df_census_np_intrsctn_scaled)\n",
    "    Sum_of_squared_distances.append(kmeans.inertia_)\n",
    "plt.plot(K,Sum_of_squared_distances,'*-')\n",
    "plt.xlabel('Values of K') \n",
    "plt.ylabel('Sum of squared distances/Inertia') \n",
    "plt.title('Elbow Method For Optimal k')\n",
    "plt.show()"
   ]
  },
  {
   "cell_type": "code",
   "execution_count": null,
   "id": "746aa2f8",
   "metadata": {},
   "outputs": [],
   "source": [
    "# Initialize KMeans instance\n",
    "kmeans = KMeans(n_clusters=5)\n",
    "# Set the seed for reproducibility\n",
    "#np.random.seed(1234)\n",
    "# Run K-Means algorithm\n",
    "k5cls = kmeans.fit(df_census_np_intrsctn_scaled)\n",
    "\n",
    "# Assign labels into a column\n",
    "df_census_np_intrsctn[\"k5cls\"] = k5cls.labels_\n",
    "\n",
    "df_census_np_intrsctn.explore(\n",
    "    column=\"k5cls\", categorical=True, legend=True\n",
    ")"
   ]
  },
  {
   "cell_type": "code",
   "execution_count": null,
   "id": "89e1ffb6",
   "metadata": {},
   "outputs": [],
   "source": [
    "# Group data table by cluster label and count observations\n",
    "k5sizes = df_census_np_intrsctn.groupby(\"k5cls\").size()\n",
    "k5sizes"
   ]
  },
  {
   "cell_type": "code",
   "execution_count": null,
   "id": "c1decb6a",
   "metadata": {},
   "outputs": [],
   "source": [
    "df_census_np_intrsctn[\"area_sqm\"]=df_census_np_intrsctn.area"
   ]
  },
  {
   "cell_type": "code",
   "execution_count": null,
   "id": "9c779991",
   "metadata": {},
   "outputs": [],
   "source": [
    "# Dissolve areas by Cluster, aggregate by summing,\n",
    "# and keep column for area\n",
    "areas = df_census_np_intrsctn.dissolve(by=\"k5cls\", aggfunc=\"sum\")[\"area_sqm\"]\n",
    "areas"
   ]
  },
  {
   "cell_type": "code",
   "execution_count": null,
   "id": "95b65611",
   "metadata": {},
   "outputs": [],
   "source": [
    "# Bind cluster figures in a single table\n",
    "area_tracts = pd.DataFrame({\"No. Tracts\": k5sizes, \"Area\": areas})\n",
    "# Convert raw values into percentages\n",
    "area_tracts = area_tracts * 100 / area_tracts.sum()\n",
    "# Bar plot\n",
    "ax = area_tracts.plot.bar()\n",
    "# Rename axes\n",
    "ax.set_xlabel(\"Cluster labels\")\n",
    "ax.set_ylabel(\"Percentage by cluster\");\n",
    "\n",
    "area_tracts\n"
   ]
  },
  {
   "cell_type": "code",
   "execution_count": null,
   "id": "4c78a921",
   "metadata": {},
   "outputs": [],
   "source": [
    "# Group table by cluster label, keep the variables used\n",
    "# for clustering, and obtain their mean: distribution of Census features across all clusters\n",
    "k5means = df_census_np_intrsctn.groupby(\"k5cls\")[[x for x in cluster_variables if x not in densty_ftr]].sum()\n",
    "# Transpose the table and print it rounding each value\n",
    "# to three decimals\n",
    "k5means.T.round(5)"
   ]
  },
  {
   "cell_type": "markdown",
   "id": "874f52d8",
   "metadata": {},
   "source": [
    "7. Assigning clusters to counter sites"
   ]
  },
  {
   "cell_type": "code",
   "execution_count": null,
   "id": "1df6b5b3",
   "metadata": {},
   "outputs": [],
   "source": [
    "counters_locn_copy=counters_locn.copy()\n",
    "\n",
    "counters_locn_copy.geometry=counters_locn_copy.geometry.centroid\n",
    "\n",
    "\n",
    "sites_clusters=gpd.overlay(counters_locn_copy.to_crs(df_census_np_intrsctn.crs),df_census_np_intrsctn, how='intersection')\n",
    "\n",
    "\n",
    "\n",
    "print(sites_clusters['k5cls'].value_counts())\n"
   ]
  },
  {
   "cell_type": "code",
   "execution_count": null,
   "id": "2d0dffb7",
   "metadata": {
    "scrolled": true
   },
   "outputs": [],
   "source": [
    "sites_clusters_count=data_processed_sites.merge(sites_clusters[['counter','k5cls']],\\\n",
    "                                        how='inner',left_on=['counter'],right_on=['counter'])\n",
    "\n",
    "sites_clusters_count[['k5cls','counter']].drop_duplicates().groupby('k5cls')['counter'].count()\n",
    "\n",
    "\n",
    "\n",
    "#distribution of visitor numbers for each cluster\n",
    "new_df = sites_clusters_count.groupby(['Date','k5cls'])['people_counter_data'].mean().unstack()\n",
    "new_df.plot(style='-o',figsize=(10,2))\n"
   ]
  },
  {
   "cell_type": "code",
   "execution_count": null,
   "id": "ce5081f4",
   "metadata": {},
   "outputs": [],
   "source": [
    "new_df=sites_clusters_count.groupby(['Date','k5cls'])['people_counter_data'].mean().reset_index()\n",
    "\n",
    "sns.violinplot(data=new_df, x=\"k5cls\", y=\"people_counter_data\")\n",
    "\n",
    "\n",
    "\n",
    "\n",
    "\n"
   ]
  },
  {
   "cell_type": "markdown",
   "id": "5b27301e",
   "metadata": {},
   "source": [
    "8. Multi-group analysis for each cluster"
   ]
  },
  {
   "cell_type": "code",
   "execution_count": null,
   "id": "68d3fbc4",
   "metadata": {},
   "outputs": [],
   "source": [
    "\n",
    "# Strava vs Visitation count regression for each cluster\n",
    "\n",
    "new_df=sites_clusters_count.groupby(['Date','k5cls'])[['people_counter_data','total_trip_count']].mean().reset_index()\n",
    "\n",
    "\n",
    "sns.lmplot(data=new_df, x=\"people_counter_data\", y=\"total_trip_count\", hue=\"k5cls\")"
   ]
  },
  {
   "cell_type": "code",
   "execution_count": null,
   "id": "6c5cc78e",
   "metadata": {},
   "outputs": [],
   "source": [
    "\n",
    "data_copy=sites_clusters_count[['Date','site','total_trip_count','people_counter_data','k5cls']]\n",
    "\n",
    "str_df_coef=[]\n",
    "\n",
    "for clustr in data_copy['k5cls'].unique():\n",
    "    \n",
    "    \n",
    "    data=data_copy\n",
    "\n",
    "    data=data[data['k5cls']==clustr].reset_index(drop=True)\n",
    "    \n",
    "    \n",
    "    data['Month']=data['Date'].apply(lambda x: x.split('-')[1]).astype(str)\n",
    "    \n",
    "    dummy_month=pd.get_dummies(data['Month'],drop_first=True,prefix='Month').astype(int)\n",
    "    \n",
    "    del data['Month']\n",
    "    \n",
    "    data=pd.concat([data,dummy_month],axis=1)\n",
    "    \n",
    "    X=data[['total_trip_count']]#+list(dummy_month.columns)]\n",
    "    X = sm.add_constant(X)\n",
    "    y=data[['people_counter_data']].values\n",
    "    \n",
    "    print(y.shape)\n",
    "    \n",
    "    print(X.shape)\n",
    "    \n",
    "    results = sm.OLS(y,X).fit()\n",
    "    \n",
    "    results.summary() \n",
    "    results_as_html = results.summary().tables[1].as_html()\n",
    "    \n",
    "    df_coef=pd.read_html(results_as_html, header=0, index_col=0)[0]\n",
    "    \n",
    "    df_coef['Cluster']=clustr\n",
    "    \n",
    "    str_df_coef.append(df_coef)\n",
    "    \n",
    "    \n",
    "str_df_coef=pd.concat(str_df_coef)"
   ]
  },
  {
   "cell_type": "code",
   "execution_count": null,
   "id": "d7f7d144",
   "metadata": {},
   "outputs": [],
   "source": [
    "# Finding clusters with statistically significant correlation with Strava count\n",
    "sign_coef=str_df_coef[str_df_coef['P>|t|']<=0.05]\n",
    "\n",
    "sign_coef_strava=sign_coef[sign_coef.index.isin(['total_trip_count'])]\n",
    "\n",
    "clutrs_considered=list(sign_coef_strava['Cluster'].values)\n",
    "\n",
    "sites_clusters=sites_clusters[sites_clusters['k5cls'].isin(clutrs_considered)]"
   ]
  },
  {
   "cell_type": "code",
   "execution_count": null,
   "id": "8d7d517e",
   "metadata": {},
   "outputs": [],
   "source": [
    "str_df_coef"
   ]
  },
  {
   "cell_type": "code",
   "execution_count": null,
   "id": "5be9ea22",
   "metadata": {},
   "outputs": [],
   "source": [
    "# Focus on sites within protected landscapes which are in the South East\n",
    "\n",
    "sites_clusters_spefc=sites_clusters[sites_clusters['name'].isin(['Kent Downs','Surrey Hills'])]\n",
    "\n",
    "print(sites_clusters_spefc['k5cls'].value_counts())\n",
    "\n",
    "df_census_np_intrsctn_spefc=df_census_np_intrsctn[df_census_np_intrsctn['name'].\\\n",
    "                                                  isin(['Kent Downs','Surrey Hills'])]\n",
    "\n",
    "\n",
    "\n",
    "m = df_census_np_intrsctn_spefc.to_crs(crs_deg).explore(column='k5cls',cmap='rainbow',categorical=True,legend=True)\n",
    "m = sites_clusters_spefc.to_crs(crs_deg).explore(m=m,color='black')\n",
    "# this is completely optional\n",
    "folium.LayerControl().add_to(m)\n",
    "\n",
    "m\n",
    "\n"
   ]
  },
  {
   "cell_type": "code",
   "execution_count": null,
   "id": "abb45484",
   "metadata": {},
   "outputs": [],
   "source": [
    "# split protected landscapes and counters locations into different clusters\n",
    "\n",
    "str_all_clstr_np=[]\n",
    "\n",
    "str_all_clstr_site=[]\n",
    "\n",
    "\n",
    "for indx in range(sites_clusters_spefc['k5cls'].value_counts().shape[0]):\n",
    "    \n",
    "    \n",
    "    \n",
    "    clstr=sites_clusters_spefc['k5cls'].value_counts()[indx:indx+1].index[0]\n",
    "    \n",
    "    df_census_np_intrsctn_spefc_clstr=df_census_np_intrsctn_spefc[df_census_np_intrsctn_spefc['k5cls'].isin([clstr])]\n",
    "    \n",
    "    \n",
    "    sites_spefc_clstr=sites_clusters_spefc[sites_clusters_spefc['k5cls'].isin([clstr])]\n",
    "    \n",
    "    str_all_clstr_np.append(df_census_np_intrsctn_spefc_clstr)\n",
    "    \n",
    "    str_all_clstr_site.append(sites_spefc_clstr)"
   ]
  },
  {
   "cell_type": "code",
   "execution_count": null,
   "id": "9ad76275",
   "metadata": {},
   "outputs": [],
   "source": [
    "# 1. For each cluster, Find the polygon which contains the counter site\n",
    "# 2. Find all the polygons which touch\n",
    "# with the polygon found in step 1.\n",
    "\n",
    "all_areas_touch=[]\n",
    "\n",
    "sites_neighbrs=[]\n",
    "\n",
    "for outr_indx in range(len(str_all_clstr_site)):\n",
    "    \n",
    "    sites_spefc_clstr=str_all_clstr_site[outr_indx]\n",
    "    \n",
    "    np_spefc_clstr=str_all_clstr_np[outr_indx]\n",
    "    \n",
    "    for indx in range(len(sites_spefc_clstr)):\n",
    "        \n",
    "        \n",
    "        \n",
    "        row=sites_spefc_clstr.iloc[indx:indx+1,:]\n",
    "    \n",
    "   \n",
    "    \n",
    "        geom=np_spefc_clstr\n",
    "\n",
    "\n",
    "    \n",
    "\n",
    "        site_ctnd=gpd.GeoDataFrame(gpd.sjoin(geom, row, how='inner', predicate='contains').geometry)\n",
    "    \n",
    "   \n",
    "    \n",
    "  \n",
    "    \n",
    "    \n",
    "        all_areas_touch.append(pd.concat([gpd.sjoin(np_spefc_clstr, site_ctnd, how='inner',\\\n",
    "                                                    predicate='touches'),geom[geom.index==site_ctnd.index[0]]]))\n",
    "    \n",
    "        sites_neighbrs.append(row)"
   ]
  },
  {
   "cell_type": "code",
   "execution_count": null,
   "id": "1f57d321",
   "metadata": {},
   "outputs": [],
   "source": [
    "#sites within protected landscapes\n",
    "sites_within_np=pd.concat(sites_neighbrs)\n",
    "\n",
    "#protected landscapes touching counter sites\n",
    "areas_touch_sites=pd.concat(all_areas_touch)"
   ]
  },
  {
   "cell_type": "code",
   "execution_count": null,
   "id": "349fe168",
   "metadata": {},
   "outputs": [],
   "source": [
    "sites_within_np.to_crs(crs_deg).geometry"
   ]
  },
  {
   "cell_type": "code",
   "execution_count": null,
   "id": "48c53167",
   "metadata": {},
   "outputs": [],
   "source": [
    "# visualisation\n",
    "# for each cluster, polygon containing the counter site and all polygons touching it.\n",
    "\n",
    "m = areas_touch_sites.to_crs(crs_deg).explore(column='k5cls',cmap='rainbow',categorical=True,legend=True)\n",
    "m = sites_within_np.to_crs(crs_deg).explore(m=m,color='black')\n",
    "# this is completely optional\n",
    "folium.LayerControl().add_to(m)\n",
    "\n",
    "m"
   ]
  },
  {
   "cell_type": "code",
   "execution_count": null,
   "id": "49ebaba5",
   "metadata": {},
   "outputs": [],
   "source": []
  },
  {
   "cell_type": "markdown",
   "id": "8668a913",
   "metadata": {},
   "source": [
    "9. Making estimates for protected spaces"
   ]
  },
  {
   "cell_type": "code",
   "execution_count": null,
   "id": "b976d3a6",
   "metadata": {},
   "outputs": [],
   "source": [
    "df_strava_np_shp=[]#gpd.read_file('./data/strava_data_protected_sites')\n",
    "\n",
    "shp_files=['./data/strava_data_protected_sites/'+x for x in os.listdir('./data/strava_data_protected_sites')\\\n",
    " if x.split('.')[1]=='shp']\n",
    "\n",
    "\n",
    "df_strava_np_shp=[gpd.read_file(x) for x in shp_files]\n",
    "\n",
    "df_strava_np_shp=pd.concat(df_strava_np_shp).reset_index(drop=True)\n",
    "\n",
    "\n",
    "\n",
    "\n",
    "df_strava_np_shp=df_strava_np_shp.to_crs(crs_mtr)\n",
    "\n",
    "df_strava_np_shp=df_strava_np_shp.drop_duplicates(subset=['edgeUID']).reset_index(drop=True)\n",
    "\n",
    "# Intersection between Strava trails and polygons within protected landscape\n",
    "\n",
    "\n",
    "\n",
    "\n",
    "df_strava_np_shp_intrsctn=gpd.overlay(df_strava_np_shp, areas_touch_sites[['geometry','name','k5cls']],\\\n",
    "                                      how='intersection')\n",
    "\n",
    "df_strava_np_shp_intrsctn=df_strava_np_shp_intrsctn[['edgeUID','osmId','geometry','name','k5cls']]\n",
    "\n",
    "\n",
    "\n",
    "m = areas_touch_sites.to_crs(crs_deg).explore(column='k5cls',cmap='rainbow',categorical=True,legend=True)\n",
    "m=df_strava_np_shp_intrsctn.to_crs(crs_deg).explore(m=m,color='yellow')\n",
    "\n",
    "m\n"
   ]
  },
  {
   "cell_type": "code",
   "execution_count": null,
   "id": "ec1e3edb",
   "metadata": {},
   "outputs": [],
   "source": [
    "\n",
    "\n",
    "csv_files=['./data/strava_data_protected_sites/'+x for x in os.listdir('./data/strava_data_protected_sites')\\\n",
    " if x.split('.')[1]=='csv']\n",
    "\n",
    "\n",
    "df_strava_np_csv=[pd.read_csv(x) for x in csv_files]\n",
    "\n",
    "df_strava_np_csv=pd.concat(df_strava_np_csv).reset_index(drop=True)\n",
    "\n",
    "df_strava_np_csv=df_strava_np_csv.drop_duplicates(subset=['edge_uid','month']).reset_index(drop=True)\n",
    "\n",
    "df_strava_np_csv"
   ]
  },
  {
   "cell_type": "code",
   "execution_count": null,
   "id": "79934177",
   "metadata": {
    "scrolled": true
   },
   "outputs": [],
   "source": [
    "strava_edge_count_np=df_strava_np_csv.merge(df_strava_np_shp_intrsctn,left_on=['edge_uid'],\\\n",
    "                                            right_on=['edgeUID'],how='inner').\\\n",
    "groupby(['month','edge_uid'])['total_trip_count'].mean().reset_index()\n",
    "\n",
    "\n",
    "strava_edge_count_np=df_strava_np_shp_intrsctn.merge(strava_edge_count_np,\\\n",
    "                                                     left_on=['edgeUID'],right_on=['edge_uid'],how='inner')\n",
    "\n",
    "strava_edge_count_np=strava_edge_count_np.merge(sign_coef_strava.reset_index(drop=True),\\\n",
    "                                                left_on=['k5cls'],right_on=['Cluster'])\n",
    "\n",
    "strava_edge_count_np['estimated_people_count']=strava_edge_count_np['total_trip_count']*\\\n",
    "strava_edge_count_np['coef']\n",
    "\n"
   ]
  },
  {
   "cell_type": "code",
   "execution_count": null,
   "id": "da41f9ad",
   "metadata": {},
   "outputs": [],
   "source": [
    "sign_coef_strava"
   ]
  },
  {
   "cell_type": "code",
   "execution_count": null,
   "id": "fa5bd94b",
   "metadata": {},
   "outputs": [],
   "source": [
    "estm_edge_count_np_mean=strava_edge_count_np.groupby(['edgeUID','name'])['estimated_people_count'].mean().\\\n",
    "reset_index()\n",
    "\n",
    "\n",
    "estm_edge_count_np_mean=strava_edge_count_np[['edgeUID','geometry']].drop_duplicates().\\\n",
    "merge(estm_edge_count_np_mean,left_on=['edgeUID'],right_on=['edgeUID'],how='inner')\n"
   ]
  },
  {
   "cell_type": "code",
   "execution_count": null,
   "id": "1b1d434e",
   "metadata": {},
   "outputs": [],
   "source": [
    "# Average over time \n",
    "\n",
    "m = areas_touch_sites.to_crs(crs_deg).explore(column='name',categorical=True)\n",
    "m=estm_edge_count_np_mean.explore(m=m,column='estimated_people_count',cmap='rainbow')\n",
    "m\n",
    "\n"
   ]
  },
  {
   "cell_type": "code",
   "execution_count": null,
   "id": "614402f7",
   "metadata": {},
   "outputs": [],
   "source": [
    "# Average across all edges\n",
    "\n",
    "estimated_count_np=strava_edge_count_np.groupby(['month','name'])['estimated_people_count'].mean().reset_index()\n",
    "\n",
    "px.bar(estimated_count_np,x='month',y='estimated_people_count',color='name',barmode='stack')\n"
   ]
  },
  {
   "cell_type": "code",
   "execution_count": null,
   "id": "1725bddf",
   "metadata": {},
   "outputs": [],
   "source": []
  },
  {
   "cell_type": "code",
   "execution_count": null,
   "id": "f6e9053f",
   "metadata": {},
   "outputs": [],
   "source": []
  }
 ],
 "metadata": {
  "kernelspec": {
   "display_name": "Project_DEFRA",
   "language": "python",
   "name": "project_defra"
  },
  "language_info": {
   "codemirror_mode": {
    "name": "ipython",
    "version": 3
   },
   "file_extension": ".py",
   "mimetype": "text/x-python",
   "name": "python",
   "nbconvert_exporter": "python",
   "pygments_lexer": "ipython3",
   "version": "3.10.6"
  }
 },
 "nbformat": 4,
 "nbformat_minor": 5
}
