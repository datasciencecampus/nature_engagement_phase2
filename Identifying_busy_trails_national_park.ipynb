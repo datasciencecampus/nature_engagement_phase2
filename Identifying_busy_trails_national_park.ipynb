{
 "cells": [
  {
   "cell_type": "markdown",
   "id": "93a41ef9",
   "metadata": {},
   "source": [
    "In this notebook, we use clustering techniques to categorize street segments into classes of temporal patterns of Strava activities. We used continuous signal processing to group sample of street segments in National Parks across England into distinct classes of temporal activities that varied based on overall volume and daily patterns. Findings from this work can use this data to strategically place counters across these trails to efficiently capture visitation counts that better represent the visitation counts in protected landscapes.\n",
    "\n",
    "\n",
    "**Based on the following work**\n",
    "\n",
    "https://findingspress.org/article/10828-where-to-put-bike-counters-stratifying-bicycling-patterns-in-the-city-using-crowdsourced-data\n",
    "\n"
   ]
  },
  {
   "cell_type": "code",
   "execution_count": null,
   "id": "ca982a5e",
   "metadata": {},
   "outputs": [],
   "source": [
    "%reload_ext autoreload\n",
    "%autoreload 2\n",
    "\n",
    "# All the packages are defined in the Config file\n",
    "from model_packages import *\n",
    "\n",
    "# All the variables are defined in the Config file\n",
    "from model_config import *\n",
    "\n",
    "# All the functions are defined in the Config file\n",
    "from model_utils import *\n",
    "\n",
    "\n",
    "\n"
   ]
  },
  {
   "cell_type": "markdown",
   "id": "ec0108ac",
   "metadata": {},
   "source": [
    "**Gather Strava pedestrian activity data for a sample of trails across different National Parks**"
   ]
  },
  {
   "cell_type": "code",
   "execution_count": null,
   "id": "6cceccd9",
   "metadata": {},
   "outputs": [],
   "source": [
    "# Preprocess Strava Metro data\n",
    "'''\n",
    "The data is for specific \n",
    "locations with daily\n",
    "frequency count of activities\n",
    "'''\n",
    "\n",
    "folder_list=[name for name in os.listdir(strava_data_loc_np) if os.path.isdir(os.path.join(strava_data_loc_np, name)) ]\n",
    "\n",
    "\n",
    "str_csv=[]\n",
    "\n",
    "str_shp=[]\n",
    "for folder in folder_list:\n",
    "    \n",
    "    file_list=os.listdir(strava_data_loc_np+folder)\n",
    "    print(folder)\n",
    "    \n",
    "    csv_file=[x for x in file_list if x.endswith(\".csv\")][0]\n",
    "    \n",
    "    shp_file=[x for x in file_list if x.endswith(\".shp\")][0]\n",
    "    \n",
    "    # Shape files and Strava edge ids.\n",
    "    strava_df_shp = gpd.read_file(strava_data_loc_np+folder+'/'+shp_file)\n",
    "    \n",
    "    strava_df_shp=strava_df_shp.drop_duplicates(subset='edgeUID').reset_index(drop=True)\n",
    "    \n",
    "    # Strava activity count\n",
    "    strava_df_csv = pd.read_csv(strava_data_loc_np+folder+'/'+csv_file)\n",
    "    strava_df_shp=strava_df_shp.to_crs(crs_mtr)\n",
    "    \n",
    "    str_csv.append(strava_df_csv)\n",
    "    str_shp.append(strava_df_shp)\n",
    "    \n",
    "    \n",
    "#store all trails shapefiles    \n",
    "strava_df_shp=pd.concat(str_shp).drop_duplicates(subset=['edgeUID']).reset_index(drop=True) \n",
    "\n",
    "#store corresponding activities\n",
    "    \n",
    "strava_df_csv=pd.concat(str_csv).drop_duplicates().reset_index(drop=True)\n",
    "\n",
    "strava_df_csv['date']=pd.to_datetime(strava_df_csv['date'])\n",
    "\n",
    "strava_df_csv['day_of_week'] = strava_df_csv['date'].dt.day_name()\n",
    "\n",
    "\n",
    "strava_df_csv['month']=strava_df_csv['date'].dt.month\n",
    "\n",
    "strava_df_csv['year']=strava_df_csv['date'].dt.year\n",
    "\n",
    "\n",
    "strava_df_csv['month_name']=strava_df_csv['month'].apply(lambda x: calendar.month_abbr[x])\n",
    "\n",
    "#Get seasons information\n",
    "\n",
    "strava_df_csv['season'] = strava_df_csv.month.apply(get_season)"
   ]
  },
  {
   "cell_type": "markdown",
   "id": "f5906a83",
   "metadata": {},
   "source": [
    "**Visualisations**"
   ]
  },
  {
   "cell_type": "code",
   "execution_count": null,
   "id": "20ee2462",
   "metadata": {},
   "outputs": [],
   "source": [
    "# Get % Total recorded Strava activities for each day of the week and across different seasons\n",
    "\n",
    "cats = [ 'Monday', 'Tuesday', 'Wednesday', 'Thursday', 'Friday', 'Saturday', 'Sunday']\n",
    "cat_type = CategoricalDtype(categories=cats, ordered=True)\n",
    "strava_df_csv['day_of_week'] = strava_df_csv['day_of_week'].astype(cat_type)\n",
    "\n",
    "df_agg_day_sesn=((strava_df_csv.groupby(['season','day_of_week'])['total_trip_count'].sum()/\\\n",
    "                  strava_df_csv.groupby(['season','day_of_week'])['total_trip_count'].sum().sum(axis=0))*100).\\\n",
    "reset_index()\n",
    "\n",
    "fig = px.bar(df_agg_day_sesn, x='day_of_week', y=\"total_trip_count\", color=\"season\",barmode='group')\n",
    "\n",
    "fig.update_traces(marker=dict(size=15,\n",
    "                              line=dict(width=2,\n",
    "                                        color='DarkSlateGrey')),\n",
    "                  selector=dict(mode='markers'))\n",
    "fig.update_layout(yaxis_title=\"% Total recorded Strava activities\")\n",
    "\n",
    "fig.show()"
   ]
  },
  {
   "cell_type": "markdown",
   "id": "ba1247ae",
   "metadata": {},
   "source": [
    "\n",
    "**Get data for National Parks** \n"
   ]
  },
  {
   "cell_type": "code",
   "execution_count": null,
   "id": "7840d1a9",
   "metadata": {},
   "outputs": [],
   "source": [
    "# Strava trails across National Parks\n",
    "strava_df_shp.to_crs(crs_deg).explore()"
   ]
  },
  {
   "cell_type": "code",
   "execution_count": null,
   "id": "17e11cbc",
   "metadata": {},
   "outputs": [],
   "source": [
    "area_of_interest=gpd.read_file(national_park_data)\n",
    "area_of_interest.explore(categorical=True,column='name',legend=True)"
   ]
  },
  {
   "cell_type": "code",
   "execution_count": null,
   "id": "5ff523fb",
   "metadata": {},
   "outputs": [],
   "source": [
    "# Get Strava trails intersecting with National Parks\n",
    "strava_intrsct_ar_intrst=gpd.overlay(strava_df_shp.to_crs(crs_mtr),area_of_interest.to_crs(crs_mtr),\\\n",
    "                                     how='intersection')\n",
    "\n",
    "strava_intrsct_ar_intrst.to_crs(crs_deg).explore(categorical=True,column='name',legend=True)"
   ]
  },
  {
   "cell_type": "code",
   "execution_count": null,
   "id": "1c504e81",
   "metadata": {},
   "outputs": [],
   "source": [
    "#Get Strava edges of interest\n",
    "\n",
    "edges_nature_rsrv=strava_intrsct_ar_intrst['edgeUID'].unique()\n",
    "\n",
    "#Get Strava data of interest\n",
    "\n",
    "strava_df_csv=strava_df_csv[strava_df_csv['edge_uid'].isin(edges_nature_rsrv)]\n",
    "\n",
    "#Get Strava shapefiles of interest\n",
    "\n",
    "strava_df_shp=strava_df_shp[strava_df_shp['edgeUID'].isin(edges_nature_rsrv)]"
   ]
  },
  {
   "cell_type": "code",
   "execution_count": null,
   "id": "d42e0872",
   "metadata": {},
   "outputs": [],
   "source": [
    "# Visualisation\n",
    "strava_df_csv.groupby(['month','year'])['total_trip_count'].sum().unstack().plot(style='-o')\n",
    "plt.title('Total number of trips recorded across all edges')"
   ]
  },
  {
   "cell_type": "markdown",
   "id": "75d2f241",
   "metadata": {},
   "source": [
    "\n",
    "\n",
    "**Focusing on the activities for specific season (to control for seasonal effects)** "
   ]
  },
  {
   "cell_type": "code",
   "execution_count": null,
   "id": "21bc1e2e",
   "metadata": {},
   "outputs": [],
   "source": [
    "# Focus on a specific season\n",
    "\n",
    "strava_df_csv_summer=strava_df_csv[strava_df_csv.month_name.isin(['Jun','Jul','Aug'])]"
   ]
  },
  {
   "cell_type": "code",
   "execution_count": null,
   "id": "15458d0d",
   "metadata": {},
   "outputs": [],
   "source": [
    "# Visualisation\n",
    "strava_df_csv_summer.groupby(['month','year'])['total_trip_count'].sum().unstack().plot(style='-o')\n",
    "#plt.ylabel('Activities recorded')\n",
    "plt.title('Total number of trips recorded across all edges during Summer')"
   ]
  },
  {
   "cell_type": "code",
   "execution_count": null,
   "id": "5f6ef46a",
   "metadata": {},
   "outputs": [],
   "source": [
    "# Mean activity count of each edge grouped by month\n",
    "\n",
    "mean_count=strava_df_csv_summer.groupby(['month','edge_uid'])['total_trip_count'].mean().\\\n",
    "reset_index()\n",
    "\n",
    "#re-format the data\n",
    "\n",
    "mean_count_pvt_tbl=mean_count.pivot_table(index=[\"edge_uid\"],columns='month',values='total_trip_count')\n",
    "\n",
    "# Mean number of activities recorded for each edge for each month in Summer\n",
    "mean_count_pvt_tbl=mean_count_pvt_tbl.fillna(0)\n",
    "\n",
    "\n",
    "#Distribution of activities\n",
    "sns.displot(pd.DataFrame(mean_count_pvt_tbl.sum(axis=1)).values,kde=True,legend=False)"
   ]
  },
  {
   "cell_type": "markdown",
   "id": "314890d9",
   "metadata": {},
   "source": [
    "\n",
    "\n",
    "**Perform clustering on trails to identify trails with similar level of activities** "
   ]
  },
  {
   "cell_type": "code",
   "execution_count": null,
   "id": "1465674a",
   "metadata": {},
   "outputs": [],
   "source": [
    "# Calculate the pairwise distance between edges \n",
    "# (based on mean number of activities recorded for each edge)\n",
    "\n",
    "ds = dtw.distance_matrix_fast(mean_count_pvt_tbl.values,window=1,compact=False)\n"
   ]
  },
  {
   "cell_type": "code",
   "execution_count": null,
   "id": "76c5bb95",
   "metadata": {},
   "outputs": [],
   "source": [
    "# Based on the pairwise distance, assign each edge to a cluster\n",
    "\n",
    "\n",
    "numbr_clustrs_range=range (2,15)\n",
    "str_chs=[]\n",
    "for numb_clusters in numbr_clustrs_range:\n",
    "    \n",
    "    cluster = AgglomerativeClustering(n_clusters=numb_clusters, affinity='euclidean', linkage='ward',\\\n",
    "                                  compute_full_tree=True, distance_threshold=None)\n",
    "    cluster.fit_predict(ds)\n",
    "\n",
    "    print(f\"Number of clusters = {1+np.amax(cluster.labels_)}\")\n",
    "\n",
    "    metrics.calinski_harabasz_score(ds, cluster.labels_)\n",
    "    \n",
    "    str_chs.append(metrics.calinski_harabasz_score(ds, cluster.labels_))\n",
    "\n",
    "    \n",
    "plt.plot(numbr_clustrs_range,str_chs,'-o')\n",
    "\n",
    "\n"
   ]
  },
  {
   "cell_type": "code",
   "execution_count": null,
   "id": "4aae3041",
   "metadata": {},
   "outputs": [],
   "source": [
    "from scipy.signal import argrelextrema\n",
    "\n",
    "\n",
    "# Find the optimal \n",
    "# for local maxima\n",
    "local_max=argrelextrema(np.array(str_chs), np.greater)\n",
    "\n",
    "optml_clstr=numbr_clustrs_range[local_max[0][0]]\n"
   ]
  },
  {
   "cell_type": "code",
   "execution_count": null,
   "id": "826a4e29",
   "metadata": {},
   "outputs": [],
   "source": [
    "\n",
    "\n",
    "cluster = AgglomerativeClustering(n_clusters=optml_clstr, affinity='euclidean', linkage='ward',\\\n",
    "                                  compute_full_tree=True, distance_threshold=None)\n",
    "\n",
    "cluster.fit_predict(ds)\n",
    "\n",
    "print(f\"Number of clusters = {1+np.amax(cluster.labels_)}\")"
   ]
  },
  {
   "cell_type": "code",
   "execution_count": null,
   "id": "be86cab3",
   "metadata": {},
   "outputs": [],
   "source": [
    "\n",
    "# Assign cluster label to each edge\n",
    "# Distance matrix- showing distance bewteeen every Strava edge\n",
    "df_ds=pd.DataFrame(ds)\n",
    "\n",
    "df_ds.index=mean_count_pvt_tbl.index.values\n",
    "\n",
    "df_ds['total_mean_edge_count']=df_ds.mean(axis=1).values\n",
    "\n",
    "df_ds['labels']=cluster.labels_\n",
    "\n",
    "df_ds=df_ds.reset_index()\n",
    "\n",
    "df_ds.rename(columns={'index':'edge_uid'},inplace=True)\n",
    "\n",
    "\n",
    "count_edges_clusters=df_ds[['edge_uid','labels','total_mean_edge_count']].merge(mean_count_pvt_tbl.reset_index(),left_on=['edge_uid'],\\\n",
    "                                 right_on=['edge_uid'])\n",
    "\n",
    "\n",
    "count_edges_clusters=count_edges_clusters[['edge_uid','labels','total_mean_edge_count']]\n",
    "\n",
    "\n",
    "\n"
   ]
  },
  {
   "cell_type": "code",
   "execution_count": null,
   "id": "3d0c0ea7",
   "metadata": {},
   "outputs": [],
   "source": [
    "\n",
    "# Strava edges with cluster labels\n",
    "\n",
    "df_ds_shp=pd.merge(strava_df_shp.drop_duplicates(subset=['edgeUID']),df_ds,left_on=['edgeUID'],\\\n",
    "                   right_on=['edge_uid'],how='inner')\n",
    "\n",
    "df_ds_shp=gpd.GeoDataFrame(df_ds_shp)[['geometry','labels','edge_uid']]\n",
    "\n",
    "\n",
    "df_ds_shp['labels_count']=df_ds_shp['labels'].map(df_ds_shp['labels'].value_counts())"
   ]
  },
  {
   "cell_type": "code",
   "execution_count": null,
   "id": "be874717",
   "metadata": {},
   "outputs": [],
   "source": [
    "count_edges_clusters=df_ds_shp.merge(count_edges_clusters,left_on=['edge_uid','labels'],\\\n",
    "                right_on=['edge_uid','labels'])"
   ]
  },
  {
   "cell_type": "code",
   "execution_count": null,
   "id": "7643bcd8",
   "metadata": {},
   "outputs": [],
   "source": [
    "\n",
    "sns.boxplot(data=count_edges_clusters,x=\"labels\",y=\"total_mean_edge_count\")"
   ]
  },
  {
   "cell_type": "code",
   "execution_count": null,
   "id": "91c96d92",
   "metadata": {},
   "outputs": [],
   "source": [
    "\n",
    "sns.violinplot(data=count_edges_clusters,x=\"labels\",y=\"total_mean_edge_count\")"
   ]
  },
  {
   "cell_type": "code",
   "execution_count": null,
   "id": "caf13286",
   "metadata": {},
   "outputs": [],
   "source": [
    "count_edges_clusters.to_crs(crs_deg).explore(column=\"labels\", categorical=True,cmap='viridis',\\\n",
    "                                               legend=True)"
   ]
  }
 ],
 "metadata": {
  "kernelspec": {
   "display_name": "Project_DEFRA",
   "language": "python",
   "name": "project_defra"
  },
  "language_info": {
   "codemirror_mode": {
    "name": "ipython",
    "version": 3
   },
   "file_extension": ".py",
   "mimetype": "text/x-python",
   "name": "python",
   "nbconvert_exporter": "python",
   "pygments_lexer": "ipython3",
   "version": "3.10.6"
  }
 },
 "nbformat": 4,
 "nbformat_minor": 5
}
